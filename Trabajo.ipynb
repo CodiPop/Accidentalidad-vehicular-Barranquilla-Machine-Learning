{
  "cells": [
    {
      "cell_type": "code",
      "execution_count": 1,
      "id": "1f9b7d32",
      "metadata": {
        "id": "1f9b7d32"
      },
      "outputs": [],
      "source": [
        "import pandas as pd\n",
        "import plotly.express as px\n",
        "import plotly.graph_objects as go"
      ]
    },
    {
      "cell_type": "code",
      "execution_count": 2,
      "id": "b6238719",
      "metadata": {
        "id": "b6238719"
      },
      "outputs": [],
      "source": [
        "df = pd.read_csv(\"Accidentalidad_en_Barranquilla.csv\")\n",
        "df.columns = [col.replace(\"\\n\", \" \").strip() for col in df.columns]"
      ]
    },
    {
      "cell_type": "code",
      "execution_count": 3,
      "id": "0VEJXJpcCQZG",
      "metadata": {
        "colab": {
          "base_uri": "https://localhost:8080/",
          "height": 408
        },
        "id": "0VEJXJpcCQZG",
        "outputId": "61d6ae16-b6ac-4a07-a94b-3f8c5cd68ab1"
      },
      "outputs": [
        {
          "data": {
            "text/html": [
              "<div>\n",
              "<style scoped>\n",
              "    .dataframe tbody tr th:only-of-type {\n",
              "        vertical-align: middle;\n",
              "    }\n",
              "\n",
              "    .dataframe tbody tr th {\n",
              "        vertical-align: top;\n",
              "    }\n",
              "\n",
              "    .dataframe thead th {\n",
              "        text-align: right;\n",
              "    }\n",
              "</style>\n",
              "<table border=\"1\" class=\"dataframe\">\n",
              "  <thead>\n",
              "    <tr style=\"text-align: right;\">\n",
              "      <th></th>\n",
              "      <th>FECHA_ACCIDENTE</th>\n",
              "      <th>AÑO_ACCIDENTE</th>\n",
              "      <th>MES_ACCIDENTE</th>\n",
              "      <th>DIA_ACCIDENTE</th>\n",
              "      <th>HORA_ACCIDENTE</th>\n",
              "      <th>GRAVEDAD_ACCIDENTE</th>\n",
              "      <th>CLASE_ACCIDENTE</th>\n",
              "      <th>SITIO_EXACTO_ACCIDENTE</th>\n",
              "      <th>CANT_HERIDOS_EN _SITIO_ACCIDENTE</th>\n",
              "      <th>CANT_MUERTOS_EN _SITIO_ACCIDENTE</th>\n",
              "      <th>CANTIDAD_ACCIDENTES</th>\n",
              "    </tr>\n",
              "  </thead>\n",
              "  <tbody>\n",
              "    <tr>\n",
              "      <th>0</th>\n",
              "      <td>01/01/2015 12:00:00 AM</td>\n",
              "      <td>2015</td>\n",
              "      <td>1</td>\n",
              "      <td>Jue</td>\n",
              "      <td>02:10:00:PM</td>\n",
              "      <td>Con heridos</td>\n",
              "      <td>Choque</td>\n",
              "      <td>VIA 40 CON 77</td>\n",
              "      <td>1</td>\n",
              "      <td>0</td>\n",
              "      <td>1</td>\n",
              "    </tr>\n",
              "    <tr>\n",
              "      <th>1</th>\n",
              "      <td>01/01/2015 12:00:00 AM</td>\n",
              "      <td>2015</td>\n",
              "      <td>1</td>\n",
              "      <td>Jue</td>\n",
              "      <td>02:15:00:PM</td>\n",
              "      <td>Solo daños</td>\n",
              "      <td>Choque</td>\n",
              "      <td>CALLE 14 CR 13</td>\n",
              "      <td>0</td>\n",
              "      <td>0</td>\n",
              "      <td>1</td>\n",
              "    </tr>\n",
              "    <tr>\n",
              "      <th>2</th>\n",
              "      <td>01/01/2015 12:00:00 AM</td>\n",
              "      <td>2015</td>\n",
              "      <td>1</td>\n",
              "      <td>Jue</td>\n",
              "      <td>02:20:00:PM</td>\n",
              "      <td>Solo daños</td>\n",
              "      <td>Choque</td>\n",
              "      <td>CL 74 CR 38C</td>\n",
              "      <td>0</td>\n",
              "      <td>0</td>\n",
              "      <td>1</td>\n",
              "    </tr>\n",
              "    <tr>\n",
              "      <th>3</th>\n",
              "      <td>01/01/2015 12:00:00 AM</td>\n",
              "      <td>2015</td>\n",
              "      <td>1</td>\n",
              "      <td>Jue</td>\n",
              "      <td>03:30:00:PM</td>\n",
              "      <td>Con heridos</td>\n",
              "      <td>Choque</td>\n",
              "      <td>CL 45 CR 19</td>\n",
              "      <td>2</td>\n",
              "      <td>0</td>\n",
              "      <td>1</td>\n",
              "    </tr>\n",
              "    <tr>\n",
              "      <th>4</th>\n",
              "      <td>01/01/2015 12:00:00 AM</td>\n",
              "      <td>2015</td>\n",
              "      <td>1</td>\n",
              "      <td>Jue</td>\n",
              "      <td>04:20:00:AM</td>\n",
              "      <td>Solo daños</td>\n",
              "      <td>Choque</td>\n",
              "      <td>CRA 15 CLLE 21</td>\n",
              "      <td>0</td>\n",
              "      <td>0</td>\n",
              "      <td>1</td>\n",
              "    </tr>\n",
              "    <tr>\n",
              "      <th>...</th>\n",
              "      <td>...</td>\n",
              "      <td>...</td>\n",
              "      <td>...</td>\n",
              "      <td>...</td>\n",
              "      <td>...</td>\n",
              "      <td>...</td>\n",
              "      <td>...</td>\n",
              "      <td>...</td>\n",
              "      <td>...</td>\n",
              "      <td>...</td>\n",
              "      <td>...</td>\n",
              "    </tr>\n",
              "    <tr>\n",
              "      <th>37239</th>\n",
              "      <td>09/30/2021 12:00:00 AM</td>\n",
              "      <td>2021</td>\n",
              "      <td>9</td>\n",
              "      <td>Jue</td>\n",
              "      <td>06:20:00:PM</td>\n",
              "      <td>Con heridos</td>\n",
              "      <td>Atropello</td>\n",
              "      <td>CARRERA 15 SUR CON CALLE 73</td>\n",
              "      <td>2</td>\n",
              "      <td>0</td>\n",
              "      <td>1</td>\n",
              "    </tr>\n",
              "    <tr>\n",
              "      <th>37240</th>\n",
              "      <td>09/30/2021 12:00:00 AM</td>\n",
              "      <td>2021</td>\n",
              "      <td>9</td>\n",
              "      <td>Jue</td>\n",
              "      <td>08:10:00:AM</td>\n",
              "      <td>Con heridos</td>\n",
              "      <td>Choque</td>\n",
              "      <td>CARRERA 56 FRENTE # 68 157</td>\n",
              "      <td>1</td>\n",
              "      <td>0</td>\n",
              "      <td>1</td>\n",
              "    </tr>\n",
              "    <tr>\n",
              "      <th>37241</th>\n",
              "      <td>09/30/2021 12:00:00 AM</td>\n",
              "      <td>2021</td>\n",
              "      <td>9</td>\n",
              "      <td>Jue</td>\n",
              "      <td>08:15:00:PM</td>\n",
              "      <td>Con heridos</td>\n",
              "      <td>Choque</td>\n",
              "      <td>CR 20 24 114</td>\n",
              "      <td>1</td>\n",
              "      <td>0</td>\n",
              "      <td>1</td>\n",
              "    </tr>\n",
              "    <tr>\n",
              "      <th>37242</th>\n",
              "      <td>09/30/2021 12:00:00 AM</td>\n",
              "      <td>2021</td>\n",
              "      <td>9</td>\n",
              "      <td>Jue</td>\n",
              "      <td>09:30:00:AM</td>\n",
              "      <td>Solo daños</td>\n",
              "      <td>Choque</td>\n",
              "      <td>CR 25B 74B 94</td>\n",
              "      <td>0</td>\n",
              "      <td>0</td>\n",
              "      <td>1</td>\n",
              "    </tr>\n",
              "    <tr>\n",
              "      <th>37243</th>\n",
              "      <td>09/30/2021 12:00:00 AM</td>\n",
              "      <td>2021</td>\n",
              "      <td>9</td>\n",
              "      <td>Jue</td>\n",
              "      <td>12:10:00:PM</td>\n",
              "      <td>Solo daños</td>\n",
              "      <td>Choque</td>\n",
              "      <td>CR 43 CL 55</td>\n",
              "      <td>0</td>\n",
              "      <td>0</td>\n",
              "      <td>1</td>\n",
              "    </tr>\n",
              "  </tbody>\n",
              "</table>\n",
              "<p>37244 rows × 11 columns</p>\n",
              "</div>"
            ],
            "text/plain": [
              "              FECHA_ACCIDENTE  AÑO_ACCIDENTE  MES_ACCIDENTE DIA_ACCIDENTE  \\\n",
              "0      01/01/2015 12:00:00 AM           2015              1           Jue   \n",
              "1      01/01/2015 12:00:00 AM           2015              1           Jue   \n",
              "2      01/01/2015 12:00:00 AM           2015              1           Jue   \n",
              "3      01/01/2015 12:00:00 AM           2015              1           Jue   \n",
              "4      01/01/2015 12:00:00 AM           2015              1           Jue   \n",
              "...                       ...            ...            ...           ...   \n",
              "37239  09/30/2021 12:00:00 AM           2021              9           Jue   \n",
              "37240  09/30/2021 12:00:00 AM           2021              9           Jue   \n",
              "37241  09/30/2021 12:00:00 AM           2021              9           Jue   \n",
              "37242  09/30/2021 12:00:00 AM           2021              9           Jue   \n",
              "37243  09/30/2021 12:00:00 AM           2021              9           Jue   \n",
              "\n",
              "      HORA_ACCIDENTE GRAVEDAD_ACCIDENTE CLASE_ACCIDENTE  \\\n",
              "0        02:10:00:PM        Con heridos          Choque   \n",
              "1        02:15:00:PM         Solo daños          Choque   \n",
              "2        02:20:00:PM         Solo daños          Choque   \n",
              "3        03:30:00:PM        Con heridos          Choque   \n",
              "4        04:20:00:AM         Solo daños          Choque   \n",
              "...              ...                ...             ...   \n",
              "37239    06:20:00:PM        Con heridos       Atropello   \n",
              "37240    08:10:00:AM        Con heridos          Choque   \n",
              "37241    08:15:00:PM        Con heridos          Choque   \n",
              "37242    09:30:00:AM         Solo daños          Choque   \n",
              "37243    12:10:00:PM         Solo daños          Choque   \n",
              "\n",
              "            SITIO_EXACTO_ACCIDENTE  CANT_HERIDOS_EN _SITIO_ACCIDENTE  \\\n",
              "0                    VIA 40 CON 77                                 1   \n",
              "1                   CALLE 14 CR 13                                 0   \n",
              "2                     CL 74 CR 38C                                 0   \n",
              "3                      CL 45 CR 19                                 2   \n",
              "4                   CRA 15 CLLE 21                                 0   \n",
              "...                            ...                               ...   \n",
              "37239  CARRERA 15 SUR CON CALLE 73                                 2   \n",
              "37240   CARRERA 56 FRENTE # 68 157                                 1   \n",
              "37241                 CR 20 24 114                                 1   \n",
              "37242                CR 25B 74B 94                                 0   \n",
              "37243                  CR 43 CL 55                                 0   \n",
              "\n",
              "       CANT_MUERTOS_EN _SITIO_ACCIDENTE  CANTIDAD_ACCIDENTES  \n",
              "0                                     0                    1  \n",
              "1                                     0                    1  \n",
              "2                                     0                    1  \n",
              "3                                     0                    1  \n",
              "4                                     0                    1  \n",
              "...                                 ...                  ...  \n",
              "37239                                 0                    1  \n",
              "37240                                 0                    1  \n",
              "37241                                 0                    1  \n",
              "37242                                 0                    1  \n",
              "37243                                 0                    1  \n",
              "\n",
              "[37244 rows x 11 columns]"
            ]
          },
          "execution_count": 3,
          "metadata": {},
          "output_type": "execute_result"
        }
      ],
      "source": [
        "df\n"
      ]
    },
    {
      "cell_type": "markdown",
      "id": "7319530c",
      "metadata": {
        "id": "7319530c"
      },
      "source": [
        "## Grafica 1"
      ]
    },
    {
      "cell_type": "markdown",
      "id": "jDqBWcgNvmr7",
      "metadata": {
        "id": "jDqBWcgNvmr7"
      },
      "source": [
        "Cantidad de heridos y muertos por cada tipo de accidente"
      ]
    },
    {
      "cell_type": "code",
      "execution_count": 17,
      "id": "8309bd9b",
      "metadata": {
        "colab": {
          "base_uri": "https://localhost:8080/",
          "height": 1000
        },
        "id": "8309bd9b",
        "outputId": "671768fb-ec06-40ca-f1b1-5ba7e37fc2f9"
      },
      "outputs": [
        {
          "data": {
            "application/vnd.plotly.v1+json": {
              "config": {
                "plotlyServerURL": "https://plot.ly"
              },
              "data": [
                {
                  "alignmentgroup": "True",
                  "hovertemplate": "Tipo de accidente=%{x}<br>Cantidad de heridos=%{y}<extra></extra>",
                  "legendgroup": "",
                  "marker": {
                    "color": "#636efa",
                    "pattern": {
                      "shape": ""
                    }
                  },
                  "name": "",
                  "offsetgroup": "",
                  "orientation": "v",
                  "showlegend": false,
                  "textposition": "auto",
                  "type": "bar",
                  "x": [
                    "Choque",
                    "Atropello",
                    "Caida Ocupante",
                    "Volcamiento",
                    "Otro",
                    "Incendio"
                  ],
                  "xaxis": "x",
                  "y": [
                    8980,
                    1677,
                    163,
                    130,
                    121,
                    22
                  ],
                  "yaxis": "y"
                }
              ],
              "layout": {
                "barmode": "relative",
                "legend": {
                  "tracegroupgap": 0
                },
                "margin": {
                  "t": 60
                },
                "template": {
                  "data": {
                    "bar": [
                      {
                        "error_x": {
                          "color": "#2a3f5f"
                        },
                        "error_y": {
                          "color": "#2a3f5f"
                        },
                        "marker": {
                          "line": {
                            "color": "#E5ECF6",
                            "width": 0.5
                          },
                          "pattern": {
                            "fillmode": "overlay",
                            "size": 10,
                            "solidity": 0.2
                          }
                        },
                        "type": "bar"
                      }
                    ],
                    "barpolar": [
                      {
                        "marker": {
                          "line": {
                            "color": "#E5ECF6",
                            "width": 0.5
                          },
                          "pattern": {
                            "fillmode": "overlay",
                            "size": 10,
                            "solidity": 0.2
                          }
                        },
                        "type": "barpolar"
                      }
                    ],
                    "carpet": [
                      {
                        "aaxis": {
                          "endlinecolor": "#2a3f5f",
                          "gridcolor": "white",
                          "linecolor": "white",
                          "minorgridcolor": "white",
                          "startlinecolor": "#2a3f5f"
                        },
                        "baxis": {
                          "endlinecolor": "#2a3f5f",
                          "gridcolor": "white",
                          "linecolor": "white",
                          "minorgridcolor": "white",
                          "startlinecolor": "#2a3f5f"
                        },
                        "type": "carpet"
                      }
                    ],
                    "choropleth": [
                      {
                        "colorbar": {
                          "outlinewidth": 0,
                          "ticks": ""
                        },
                        "type": "choropleth"
                      }
                    ],
                    "contour": [
                      {
                        "colorbar": {
                          "outlinewidth": 0,
                          "ticks": ""
                        },
                        "colorscale": [
                          [
                            0,
                            "#0d0887"
                          ],
                          [
                            0.1111111111111111,
                            "#46039f"
                          ],
                          [
                            0.2222222222222222,
                            "#7201a8"
                          ],
                          [
                            0.3333333333333333,
                            "#9c179e"
                          ],
                          [
                            0.4444444444444444,
                            "#bd3786"
                          ],
                          [
                            0.5555555555555556,
                            "#d8576b"
                          ],
                          [
                            0.6666666666666666,
                            "#ed7953"
                          ],
                          [
                            0.7777777777777778,
                            "#fb9f3a"
                          ],
                          [
                            0.8888888888888888,
                            "#fdca26"
                          ],
                          [
                            1,
                            "#f0f921"
                          ]
                        ],
                        "type": "contour"
                      }
                    ],
                    "contourcarpet": [
                      {
                        "colorbar": {
                          "outlinewidth": 0,
                          "ticks": ""
                        },
                        "type": "contourcarpet"
                      }
                    ],
                    "heatmap": [
                      {
                        "colorbar": {
                          "outlinewidth": 0,
                          "ticks": ""
                        },
                        "colorscale": [
                          [
                            0,
                            "#0d0887"
                          ],
                          [
                            0.1111111111111111,
                            "#46039f"
                          ],
                          [
                            0.2222222222222222,
                            "#7201a8"
                          ],
                          [
                            0.3333333333333333,
                            "#9c179e"
                          ],
                          [
                            0.4444444444444444,
                            "#bd3786"
                          ],
                          [
                            0.5555555555555556,
                            "#d8576b"
                          ],
                          [
                            0.6666666666666666,
                            "#ed7953"
                          ],
                          [
                            0.7777777777777778,
                            "#fb9f3a"
                          ],
                          [
                            0.8888888888888888,
                            "#fdca26"
                          ],
                          [
                            1,
                            "#f0f921"
                          ]
                        ],
                        "type": "heatmap"
                      }
                    ],
                    "heatmapgl": [
                      {
                        "colorbar": {
                          "outlinewidth": 0,
                          "ticks": ""
                        },
                        "colorscale": [
                          [
                            0,
                            "#0d0887"
                          ],
                          [
                            0.1111111111111111,
                            "#46039f"
                          ],
                          [
                            0.2222222222222222,
                            "#7201a8"
                          ],
                          [
                            0.3333333333333333,
                            "#9c179e"
                          ],
                          [
                            0.4444444444444444,
                            "#bd3786"
                          ],
                          [
                            0.5555555555555556,
                            "#d8576b"
                          ],
                          [
                            0.6666666666666666,
                            "#ed7953"
                          ],
                          [
                            0.7777777777777778,
                            "#fb9f3a"
                          ],
                          [
                            0.8888888888888888,
                            "#fdca26"
                          ],
                          [
                            1,
                            "#f0f921"
                          ]
                        ],
                        "type": "heatmapgl"
                      }
                    ],
                    "histogram": [
                      {
                        "marker": {
                          "pattern": {
                            "fillmode": "overlay",
                            "size": 10,
                            "solidity": 0.2
                          }
                        },
                        "type": "histogram"
                      }
                    ],
                    "histogram2d": [
                      {
                        "colorbar": {
                          "outlinewidth": 0,
                          "ticks": ""
                        },
                        "colorscale": [
                          [
                            0,
                            "#0d0887"
                          ],
                          [
                            0.1111111111111111,
                            "#46039f"
                          ],
                          [
                            0.2222222222222222,
                            "#7201a8"
                          ],
                          [
                            0.3333333333333333,
                            "#9c179e"
                          ],
                          [
                            0.4444444444444444,
                            "#bd3786"
                          ],
                          [
                            0.5555555555555556,
                            "#d8576b"
                          ],
                          [
                            0.6666666666666666,
                            "#ed7953"
                          ],
                          [
                            0.7777777777777778,
                            "#fb9f3a"
                          ],
                          [
                            0.8888888888888888,
                            "#fdca26"
                          ],
                          [
                            1,
                            "#f0f921"
                          ]
                        ],
                        "type": "histogram2d"
                      }
                    ],
                    "histogram2dcontour": [
                      {
                        "colorbar": {
                          "outlinewidth": 0,
                          "ticks": ""
                        },
                        "colorscale": [
                          [
                            0,
                            "#0d0887"
                          ],
                          [
                            0.1111111111111111,
                            "#46039f"
                          ],
                          [
                            0.2222222222222222,
                            "#7201a8"
                          ],
                          [
                            0.3333333333333333,
                            "#9c179e"
                          ],
                          [
                            0.4444444444444444,
                            "#bd3786"
                          ],
                          [
                            0.5555555555555556,
                            "#d8576b"
                          ],
                          [
                            0.6666666666666666,
                            "#ed7953"
                          ],
                          [
                            0.7777777777777778,
                            "#fb9f3a"
                          ],
                          [
                            0.8888888888888888,
                            "#fdca26"
                          ],
                          [
                            1,
                            "#f0f921"
                          ]
                        ],
                        "type": "histogram2dcontour"
                      }
                    ],
                    "mesh3d": [
                      {
                        "colorbar": {
                          "outlinewidth": 0,
                          "ticks": ""
                        },
                        "type": "mesh3d"
                      }
                    ],
                    "parcoords": [
                      {
                        "line": {
                          "colorbar": {
                            "outlinewidth": 0,
                            "ticks": ""
                          }
                        },
                        "type": "parcoords"
                      }
                    ],
                    "pie": [
                      {
                        "automargin": true,
                        "type": "pie"
                      }
                    ],
                    "scatter": [
                      {
                        "marker": {
                          "colorbar": {
                            "outlinewidth": 0,
                            "ticks": ""
                          }
                        },
                        "type": "scatter"
                      }
                    ],
                    "scatter3d": [
                      {
                        "line": {
                          "colorbar": {
                            "outlinewidth": 0,
                            "ticks": ""
                          }
                        },
                        "marker": {
                          "colorbar": {
                            "outlinewidth": 0,
                            "ticks": ""
                          }
                        },
                        "type": "scatter3d"
                      }
                    ],
                    "scattercarpet": [
                      {
                        "marker": {
                          "colorbar": {
                            "outlinewidth": 0,
                            "ticks": ""
                          }
                        },
                        "type": "scattercarpet"
                      }
                    ],
                    "scattergeo": [
                      {
                        "marker": {
                          "colorbar": {
                            "outlinewidth": 0,
                            "ticks": ""
                          }
                        },
                        "type": "scattergeo"
                      }
                    ],
                    "scattergl": [
                      {
                        "marker": {
                          "colorbar": {
                            "outlinewidth": 0,
                            "ticks": ""
                          }
                        },
                        "type": "scattergl"
                      }
                    ],
                    "scattermapbox": [
                      {
                        "marker": {
                          "colorbar": {
                            "outlinewidth": 0,
                            "ticks": ""
                          }
                        },
                        "type": "scattermapbox"
                      }
                    ],
                    "scatterpolar": [
                      {
                        "marker": {
                          "colorbar": {
                            "outlinewidth": 0,
                            "ticks": ""
                          }
                        },
                        "type": "scatterpolar"
                      }
                    ],
                    "scatterpolargl": [
                      {
                        "marker": {
                          "colorbar": {
                            "outlinewidth": 0,
                            "ticks": ""
                          }
                        },
                        "type": "scatterpolargl"
                      }
                    ],
                    "scatterternary": [
                      {
                        "marker": {
                          "colorbar": {
                            "outlinewidth": 0,
                            "ticks": ""
                          }
                        },
                        "type": "scatterternary"
                      }
                    ],
                    "surface": [
                      {
                        "colorbar": {
                          "outlinewidth": 0,
                          "ticks": ""
                        },
                        "colorscale": [
                          [
                            0,
                            "#0d0887"
                          ],
                          [
                            0.1111111111111111,
                            "#46039f"
                          ],
                          [
                            0.2222222222222222,
                            "#7201a8"
                          ],
                          [
                            0.3333333333333333,
                            "#9c179e"
                          ],
                          [
                            0.4444444444444444,
                            "#bd3786"
                          ],
                          [
                            0.5555555555555556,
                            "#d8576b"
                          ],
                          [
                            0.6666666666666666,
                            "#ed7953"
                          ],
                          [
                            0.7777777777777778,
                            "#fb9f3a"
                          ],
                          [
                            0.8888888888888888,
                            "#fdca26"
                          ],
                          [
                            1,
                            "#f0f921"
                          ]
                        ],
                        "type": "surface"
                      }
                    ],
                    "table": [
                      {
                        "cells": {
                          "fill": {
                            "color": "#EBF0F8"
                          },
                          "line": {
                            "color": "white"
                          }
                        },
                        "header": {
                          "fill": {
                            "color": "#C8D4E3"
                          },
                          "line": {
                            "color": "white"
                          }
                        },
                        "type": "table"
                      }
                    ]
                  },
                  "layout": {
                    "annotationdefaults": {
                      "arrowcolor": "#2a3f5f",
                      "arrowhead": 0,
                      "arrowwidth": 1
                    },
                    "autotypenumbers": "strict",
                    "coloraxis": {
                      "colorbar": {
                        "outlinewidth": 0,
                        "ticks": ""
                      }
                    },
                    "colorscale": {
                      "diverging": [
                        [
                          0,
                          "#8e0152"
                        ],
                        [
                          0.1,
                          "#c51b7d"
                        ],
                        [
                          0.2,
                          "#de77ae"
                        ],
                        [
                          0.3,
                          "#f1b6da"
                        ],
                        [
                          0.4,
                          "#fde0ef"
                        ],
                        [
                          0.5,
                          "#f7f7f7"
                        ],
                        [
                          0.6,
                          "#e6f5d0"
                        ],
                        [
                          0.7,
                          "#b8e186"
                        ],
                        [
                          0.8,
                          "#7fbc41"
                        ],
                        [
                          0.9,
                          "#4d9221"
                        ],
                        [
                          1,
                          "#276419"
                        ]
                      ],
                      "sequential": [
                        [
                          0,
                          "#0d0887"
                        ],
                        [
                          0.1111111111111111,
                          "#46039f"
                        ],
                        [
                          0.2222222222222222,
                          "#7201a8"
                        ],
                        [
                          0.3333333333333333,
                          "#9c179e"
                        ],
                        [
                          0.4444444444444444,
                          "#bd3786"
                        ],
                        [
                          0.5555555555555556,
                          "#d8576b"
                        ],
                        [
                          0.6666666666666666,
                          "#ed7953"
                        ],
                        [
                          0.7777777777777778,
                          "#fb9f3a"
                        ],
                        [
                          0.8888888888888888,
                          "#fdca26"
                        ],
                        [
                          1,
                          "#f0f921"
                        ]
                      ],
                      "sequentialminus": [
                        [
                          0,
                          "#0d0887"
                        ],
                        [
                          0.1111111111111111,
                          "#46039f"
                        ],
                        [
                          0.2222222222222222,
                          "#7201a8"
                        ],
                        [
                          0.3333333333333333,
                          "#9c179e"
                        ],
                        [
                          0.4444444444444444,
                          "#bd3786"
                        ],
                        [
                          0.5555555555555556,
                          "#d8576b"
                        ],
                        [
                          0.6666666666666666,
                          "#ed7953"
                        ],
                        [
                          0.7777777777777778,
                          "#fb9f3a"
                        ],
                        [
                          0.8888888888888888,
                          "#fdca26"
                        ],
                        [
                          1,
                          "#f0f921"
                        ]
                      ]
                    },
                    "colorway": [
                      "#636efa",
                      "#EF553B",
                      "#00cc96",
                      "#ab63fa",
                      "#FFA15A",
                      "#19d3f3",
                      "#FF6692",
                      "#B6E880",
                      "#FF97FF",
                      "#FECB52"
                    ],
                    "font": {
                      "color": "#2a3f5f"
                    },
                    "geo": {
                      "bgcolor": "white",
                      "lakecolor": "white",
                      "landcolor": "#E5ECF6",
                      "showlakes": true,
                      "showland": true,
                      "subunitcolor": "white"
                    },
                    "hoverlabel": {
                      "align": "left"
                    },
                    "hovermode": "closest",
                    "mapbox": {
                      "style": "light"
                    },
                    "paper_bgcolor": "white",
                    "plot_bgcolor": "#E5ECF6",
                    "polar": {
                      "angularaxis": {
                        "gridcolor": "white",
                        "linecolor": "white",
                        "ticks": ""
                      },
                      "bgcolor": "#E5ECF6",
                      "radialaxis": {
                        "gridcolor": "white",
                        "linecolor": "white",
                        "ticks": ""
                      }
                    },
                    "scene": {
                      "xaxis": {
                        "backgroundcolor": "#E5ECF6",
                        "gridcolor": "white",
                        "gridwidth": 2,
                        "linecolor": "white",
                        "showbackground": true,
                        "ticks": "",
                        "zerolinecolor": "white"
                      },
                      "yaxis": {
                        "backgroundcolor": "#E5ECF6",
                        "gridcolor": "white",
                        "gridwidth": 2,
                        "linecolor": "white",
                        "showbackground": true,
                        "ticks": "",
                        "zerolinecolor": "white"
                      },
                      "zaxis": {
                        "backgroundcolor": "#E5ECF6",
                        "gridcolor": "white",
                        "gridwidth": 2,
                        "linecolor": "white",
                        "showbackground": true,
                        "ticks": "",
                        "zerolinecolor": "white"
                      }
                    },
                    "shapedefaults": {
                      "line": {
                        "color": "#2a3f5f"
                      }
                    },
                    "ternary": {
                      "aaxis": {
                        "gridcolor": "white",
                        "linecolor": "white",
                        "ticks": ""
                      },
                      "baxis": {
                        "gridcolor": "white",
                        "linecolor": "white",
                        "ticks": ""
                      },
                      "bgcolor": "#E5ECF6",
                      "caxis": {
                        "gridcolor": "white",
                        "linecolor": "white",
                        "ticks": ""
                      }
                    },
                    "title": {
                      "x": 0.05
                    },
                    "xaxis": {
                      "automargin": true,
                      "gridcolor": "white",
                      "linecolor": "white",
                      "ticks": "",
                      "title": {
                        "standoff": 15
                      },
                      "zerolinecolor": "white",
                      "zerolinewidth": 2
                    },
                    "yaxis": {
                      "automargin": true,
                      "gridcolor": "white",
                      "linecolor": "white",
                      "ticks": "",
                      "title": {
                        "standoff": 15
                      },
                      "zerolinecolor": "white",
                      "zerolinewidth": 2
                    }
                  }
                },
                "xaxis": {
                  "anchor": "y",
                  "domain": [
                    0,
                    1
                  ],
                  "title": {
                    "text": "Tipo de accidente"
                  }
                },
                "yaxis": {
                  "anchor": "x",
                  "domain": [
                    0,
                    1
                  ],
                  "title": {
                    "text": "Cantidad de heridos"
                  }
                }
              }
            }
          },
          "metadata": {},
          "output_type": "display_data"
        },
        {
          "data": {
            "application/vnd.plotly.v1+json": {
              "config": {
                "plotlyServerURL": "https://plot.ly"
              },
              "data": [
                {
                  "alignmentgroup": "True",
                  "hovertemplate": "Tipo de accidente=%{x}<br>Cantidad de muertos=%{y}<extra></extra>",
                  "legendgroup": "",
                  "marker": {
                    "color": "#636efa",
                    "pattern": {
                      "shape": ""
                    }
                  },
                  "name": "",
                  "offsetgroup": "",
                  "orientation": "v",
                  "showlegend": false,
                  "textposition": "auto",
                  "type": "bar",
                  "x": [
                    "Choque",
                    "Atropello",
                    "Otro",
                    "Caida Ocupante",
                    "Volcamiento",
                    "Incendio"
                  ],
                  "xaxis": "x",
                  "y": [
                    147,
                    87,
                    6,
                    4,
                    2,
                    0
                  ],
                  "yaxis": "y"
                }
              ],
              "layout": {
                "barmode": "relative",
                "legend": {
                  "tracegroupgap": 0
                },
                "margin": {
                  "t": 60
                },
                "template": {
                  "data": {
                    "bar": [
                      {
                        "error_x": {
                          "color": "#2a3f5f"
                        },
                        "error_y": {
                          "color": "#2a3f5f"
                        },
                        "marker": {
                          "line": {
                            "color": "#E5ECF6",
                            "width": 0.5
                          },
                          "pattern": {
                            "fillmode": "overlay",
                            "size": 10,
                            "solidity": 0.2
                          }
                        },
                        "type": "bar"
                      }
                    ],
                    "barpolar": [
                      {
                        "marker": {
                          "line": {
                            "color": "#E5ECF6",
                            "width": 0.5
                          },
                          "pattern": {
                            "fillmode": "overlay",
                            "size": 10,
                            "solidity": 0.2
                          }
                        },
                        "type": "barpolar"
                      }
                    ],
                    "carpet": [
                      {
                        "aaxis": {
                          "endlinecolor": "#2a3f5f",
                          "gridcolor": "white",
                          "linecolor": "white",
                          "minorgridcolor": "white",
                          "startlinecolor": "#2a3f5f"
                        },
                        "baxis": {
                          "endlinecolor": "#2a3f5f",
                          "gridcolor": "white",
                          "linecolor": "white",
                          "minorgridcolor": "white",
                          "startlinecolor": "#2a3f5f"
                        },
                        "type": "carpet"
                      }
                    ],
                    "choropleth": [
                      {
                        "colorbar": {
                          "outlinewidth": 0,
                          "ticks": ""
                        },
                        "type": "choropleth"
                      }
                    ],
                    "contour": [
                      {
                        "colorbar": {
                          "outlinewidth": 0,
                          "ticks": ""
                        },
                        "colorscale": [
                          [
                            0,
                            "#0d0887"
                          ],
                          [
                            0.1111111111111111,
                            "#46039f"
                          ],
                          [
                            0.2222222222222222,
                            "#7201a8"
                          ],
                          [
                            0.3333333333333333,
                            "#9c179e"
                          ],
                          [
                            0.4444444444444444,
                            "#bd3786"
                          ],
                          [
                            0.5555555555555556,
                            "#d8576b"
                          ],
                          [
                            0.6666666666666666,
                            "#ed7953"
                          ],
                          [
                            0.7777777777777778,
                            "#fb9f3a"
                          ],
                          [
                            0.8888888888888888,
                            "#fdca26"
                          ],
                          [
                            1,
                            "#f0f921"
                          ]
                        ],
                        "type": "contour"
                      }
                    ],
                    "contourcarpet": [
                      {
                        "colorbar": {
                          "outlinewidth": 0,
                          "ticks": ""
                        },
                        "type": "contourcarpet"
                      }
                    ],
                    "heatmap": [
                      {
                        "colorbar": {
                          "outlinewidth": 0,
                          "ticks": ""
                        },
                        "colorscale": [
                          [
                            0,
                            "#0d0887"
                          ],
                          [
                            0.1111111111111111,
                            "#46039f"
                          ],
                          [
                            0.2222222222222222,
                            "#7201a8"
                          ],
                          [
                            0.3333333333333333,
                            "#9c179e"
                          ],
                          [
                            0.4444444444444444,
                            "#bd3786"
                          ],
                          [
                            0.5555555555555556,
                            "#d8576b"
                          ],
                          [
                            0.6666666666666666,
                            "#ed7953"
                          ],
                          [
                            0.7777777777777778,
                            "#fb9f3a"
                          ],
                          [
                            0.8888888888888888,
                            "#fdca26"
                          ],
                          [
                            1,
                            "#f0f921"
                          ]
                        ],
                        "type": "heatmap"
                      }
                    ],
                    "heatmapgl": [
                      {
                        "colorbar": {
                          "outlinewidth": 0,
                          "ticks": ""
                        },
                        "colorscale": [
                          [
                            0,
                            "#0d0887"
                          ],
                          [
                            0.1111111111111111,
                            "#46039f"
                          ],
                          [
                            0.2222222222222222,
                            "#7201a8"
                          ],
                          [
                            0.3333333333333333,
                            "#9c179e"
                          ],
                          [
                            0.4444444444444444,
                            "#bd3786"
                          ],
                          [
                            0.5555555555555556,
                            "#d8576b"
                          ],
                          [
                            0.6666666666666666,
                            "#ed7953"
                          ],
                          [
                            0.7777777777777778,
                            "#fb9f3a"
                          ],
                          [
                            0.8888888888888888,
                            "#fdca26"
                          ],
                          [
                            1,
                            "#f0f921"
                          ]
                        ],
                        "type": "heatmapgl"
                      }
                    ],
                    "histogram": [
                      {
                        "marker": {
                          "pattern": {
                            "fillmode": "overlay",
                            "size": 10,
                            "solidity": 0.2
                          }
                        },
                        "type": "histogram"
                      }
                    ],
                    "histogram2d": [
                      {
                        "colorbar": {
                          "outlinewidth": 0,
                          "ticks": ""
                        },
                        "colorscale": [
                          [
                            0,
                            "#0d0887"
                          ],
                          [
                            0.1111111111111111,
                            "#46039f"
                          ],
                          [
                            0.2222222222222222,
                            "#7201a8"
                          ],
                          [
                            0.3333333333333333,
                            "#9c179e"
                          ],
                          [
                            0.4444444444444444,
                            "#bd3786"
                          ],
                          [
                            0.5555555555555556,
                            "#d8576b"
                          ],
                          [
                            0.6666666666666666,
                            "#ed7953"
                          ],
                          [
                            0.7777777777777778,
                            "#fb9f3a"
                          ],
                          [
                            0.8888888888888888,
                            "#fdca26"
                          ],
                          [
                            1,
                            "#f0f921"
                          ]
                        ],
                        "type": "histogram2d"
                      }
                    ],
                    "histogram2dcontour": [
                      {
                        "colorbar": {
                          "outlinewidth": 0,
                          "ticks": ""
                        },
                        "colorscale": [
                          [
                            0,
                            "#0d0887"
                          ],
                          [
                            0.1111111111111111,
                            "#46039f"
                          ],
                          [
                            0.2222222222222222,
                            "#7201a8"
                          ],
                          [
                            0.3333333333333333,
                            "#9c179e"
                          ],
                          [
                            0.4444444444444444,
                            "#bd3786"
                          ],
                          [
                            0.5555555555555556,
                            "#d8576b"
                          ],
                          [
                            0.6666666666666666,
                            "#ed7953"
                          ],
                          [
                            0.7777777777777778,
                            "#fb9f3a"
                          ],
                          [
                            0.8888888888888888,
                            "#fdca26"
                          ],
                          [
                            1,
                            "#f0f921"
                          ]
                        ],
                        "type": "histogram2dcontour"
                      }
                    ],
                    "mesh3d": [
                      {
                        "colorbar": {
                          "outlinewidth": 0,
                          "ticks": ""
                        },
                        "type": "mesh3d"
                      }
                    ],
                    "parcoords": [
                      {
                        "line": {
                          "colorbar": {
                            "outlinewidth": 0,
                            "ticks": ""
                          }
                        },
                        "type": "parcoords"
                      }
                    ],
                    "pie": [
                      {
                        "automargin": true,
                        "type": "pie"
                      }
                    ],
                    "scatter": [
                      {
                        "marker": {
                          "colorbar": {
                            "outlinewidth": 0,
                            "ticks": ""
                          }
                        },
                        "type": "scatter"
                      }
                    ],
                    "scatter3d": [
                      {
                        "line": {
                          "colorbar": {
                            "outlinewidth": 0,
                            "ticks": ""
                          }
                        },
                        "marker": {
                          "colorbar": {
                            "outlinewidth": 0,
                            "ticks": ""
                          }
                        },
                        "type": "scatter3d"
                      }
                    ],
                    "scattercarpet": [
                      {
                        "marker": {
                          "colorbar": {
                            "outlinewidth": 0,
                            "ticks": ""
                          }
                        },
                        "type": "scattercarpet"
                      }
                    ],
                    "scattergeo": [
                      {
                        "marker": {
                          "colorbar": {
                            "outlinewidth": 0,
                            "ticks": ""
                          }
                        },
                        "type": "scattergeo"
                      }
                    ],
                    "scattergl": [
                      {
                        "marker": {
                          "colorbar": {
                            "outlinewidth": 0,
                            "ticks": ""
                          }
                        },
                        "type": "scattergl"
                      }
                    ],
                    "scattermapbox": [
                      {
                        "marker": {
                          "colorbar": {
                            "outlinewidth": 0,
                            "ticks": ""
                          }
                        },
                        "type": "scattermapbox"
                      }
                    ],
                    "scatterpolar": [
                      {
                        "marker": {
                          "colorbar": {
                            "outlinewidth": 0,
                            "ticks": ""
                          }
                        },
                        "type": "scatterpolar"
                      }
                    ],
                    "scatterpolargl": [
                      {
                        "marker": {
                          "colorbar": {
                            "outlinewidth": 0,
                            "ticks": ""
                          }
                        },
                        "type": "scatterpolargl"
                      }
                    ],
                    "scatterternary": [
                      {
                        "marker": {
                          "colorbar": {
                            "outlinewidth": 0,
                            "ticks": ""
                          }
                        },
                        "type": "scatterternary"
                      }
                    ],
                    "surface": [
                      {
                        "colorbar": {
                          "outlinewidth": 0,
                          "ticks": ""
                        },
                        "colorscale": [
                          [
                            0,
                            "#0d0887"
                          ],
                          [
                            0.1111111111111111,
                            "#46039f"
                          ],
                          [
                            0.2222222222222222,
                            "#7201a8"
                          ],
                          [
                            0.3333333333333333,
                            "#9c179e"
                          ],
                          [
                            0.4444444444444444,
                            "#bd3786"
                          ],
                          [
                            0.5555555555555556,
                            "#d8576b"
                          ],
                          [
                            0.6666666666666666,
                            "#ed7953"
                          ],
                          [
                            0.7777777777777778,
                            "#fb9f3a"
                          ],
                          [
                            0.8888888888888888,
                            "#fdca26"
                          ],
                          [
                            1,
                            "#f0f921"
                          ]
                        ],
                        "type": "surface"
                      }
                    ],
                    "table": [
                      {
                        "cells": {
                          "fill": {
                            "color": "#EBF0F8"
                          },
                          "line": {
                            "color": "white"
                          }
                        },
                        "header": {
                          "fill": {
                            "color": "#C8D4E3"
                          },
                          "line": {
                            "color": "white"
                          }
                        },
                        "type": "table"
                      }
                    ]
                  },
                  "layout": {
                    "annotationdefaults": {
                      "arrowcolor": "#2a3f5f",
                      "arrowhead": 0,
                      "arrowwidth": 1
                    },
                    "autotypenumbers": "strict",
                    "coloraxis": {
                      "colorbar": {
                        "outlinewidth": 0,
                        "ticks": ""
                      }
                    },
                    "colorscale": {
                      "diverging": [
                        [
                          0,
                          "#8e0152"
                        ],
                        [
                          0.1,
                          "#c51b7d"
                        ],
                        [
                          0.2,
                          "#de77ae"
                        ],
                        [
                          0.3,
                          "#f1b6da"
                        ],
                        [
                          0.4,
                          "#fde0ef"
                        ],
                        [
                          0.5,
                          "#f7f7f7"
                        ],
                        [
                          0.6,
                          "#e6f5d0"
                        ],
                        [
                          0.7,
                          "#b8e186"
                        ],
                        [
                          0.8,
                          "#7fbc41"
                        ],
                        [
                          0.9,
                          "#4d9221"
                        ],
                        [
                          1,
                          "#276419"
                        ]
                      ],
                      "sequential": [
                        [
                          0,
                          "#0d0887"
                        ],
                        [
                          0.1111111111111111,
                          "#46039f"
                        ],
                        [
                          0.2222222222222222,
                          "#7201a8"
                        ],
                        [
                          0.3333333333333333,
                          "#9c179e"
                        ],
                        [
                          0.4444444444444444,
                          "#bd3786"
                        ],
                        [
                          0.5555555555555556,
                          "#d8576b"
                        ],
                        [
                          0.6666666666666666,
                          "#ed7953"
                        ],
                        [
                          0.7777777777777778,
                          "#fb9f3a"
                        ],
                        [
                          0.8888888888888888,
                          "#fdca26"
                        ],
                        [
                          1,
                          "#f0f921"
                        ]
                      ],
                      "sequentialminus": [
                        [
                          0,
                          "#0d0887"
                        ],
                        [
                          0.1111111111111111,
                          "#46039f"
                        ],
                        [
                          0.2222222222222222,
                          "#7201a8"
                        ],
                        [
                          0.3333333333333333,
                          "#9c179e"
                        ],
                        [
                          0.4444444444444444,
                          "#bd3786"
                        ],
                        [
                          0.5555555555555556,
                          "#d8576b"
                        ],
                        [
                          0.6666666666666666,
                          "#ed7953"
                        ],
                        [
                          0.7777777777777778,
                          "#fb9f3a"
                        ],
                        [
                          0.8888888888888888,
                          "#fdca26"
                        ],
                        [
                          1,
                          "#f0f921"
                        ]
                      ]
                    },
                    "colorway": [
                      "#636efa",
                      "#EF553B",
                      "#00cc96",
                      "#ab63fa",
                      "#FFA15A",
                      "#19d3f3",
                      "#FF6692",
                      "#B6E880",
                      "#FF97FF",
                      "#FECB52"
                    ],
                    "font": {
                      "color": "#2a3f5f"
                    },
                    "geo": {
                      "bgcolor": "white",
                      "lakecolor": "white",
                      "landcolor": "#E5ECF6",
                      "showlakes": true,
                      "showland": true,
                      "subunitcolor": "white"
                    },
                    "hoverlabel": {
                      "align": "left"
                    },
                    "hovermode": "closest",
                    "mapbox": {
                      "style": "light"
                    },
                    "paper_bgcolor": "white",
                    "plot_bgcolor": "#E5ECF6",
                    "polar": {
                      "angularaxis": {
                        "gridcolor": "white",
                        "linecolor": "white",
                        "ticks": ""
                      },
                      "bgcolor": "#E5ECF6",
                      "radialaxis": {
                        "gridcolor": "white",
                        "linecolor": "white",
                        "ticks": ""
                      }
                    },
                    "scene": {
                      "xaxis": {
                        "backgroundcolor": "#E5ECF6",
                        "gridcolor": "white",
                        "gridwidth": 2,
                        "linecolor": "white",
                        "showbackground": true,
                        "ticks": "",
                        "zerolinecolor": "white"
                      },
                      "yaxis": {
                        "backgroundcolor": "#E5ECF6",
                        "gridcolor": "white",
                        "gridwidth": 2,
                        "linecolor": "white",
                        "showbackground": true,
                        "ticks": "",
                        "zerolinecolor": "white"
                      },
                      "zaxis": {
                        "backgroundcolor": "#E5ECF6",
                        "gridcolor": "white",
                        "gridwidth": 2,
                        "linecolor": "white",
                        "showbackground": true,
                        "ticks": "",
                        "zerolinecolor": "white"
                      }
                    },
                    "shapedefaults": {
                      "line": {
                        "color": "#2a3f5f"
                      }
                    },
                    "ternary": {
                      "aaxis": {
                        "gridcolor": "white",
                        "linecolor": "white",
                        "ticks": ""
                      },
                      "baxis": {
                        "gridcolor": "white",
                        "linecolor": "white",
                        "ticks": ""
                      },
                      "bgcolor": "#E5ECF6",
                      "caxis": {
                        "gridcolor": "white",
                        "linecolor": "white",
                        "ticks": ""
                      }
                    },
                    "title": {
                      "x": 0.05
                    },
                    "xaxis": {
                      "automargin": true,
                      "gridcolor": "white",
                      "linecolor": "white",
                      "ticks": "",
                      "title": {
                        "standoff": 15
                      },
                      "zerolinecolor": "white",
                      "zerolinewidth": 2
                    },
                    "yaxis": {
                      "automargin": true,
                      "gridcolor": "white",
                      "linecolor": "white",
                      "ticks": "",
                      "title": {
                        "standoff": 15
                      },
                      "zerolinecolor": "white",
                      "zerolinewidth": 2
                    }
                  }
                },
                "xaxis": {
                  "anchor": "y",
                  "domain": [
                    0,
                    1
                  ],
                  "title": {
                    "text": "Tipo de accidente"
                  }
                },
                "yaxis": {
                  "anchor": "x",
                  "domain": [
                    0,
                    1
                  ],
                  "title": {
                    "text": "Cantidad de muertos"
                  }
                }
              }
            }
          },
          "metadata": {},
          "output_type": "display_data"
        },
        {
          "data": {
            "text/html": [
              "<div>\n",
              "<style scoped>\n",
              "    .dataframe tbody tr th:only-of-type {\n",
              "        vertical-align: middle;\n",
              "    }\n",
              "\n",
              "    .dataframe tbody tr th {\n",
              "        vertical-align: top;\n",
              "    }\n",
              "\n",
              "    .dataframe thead th {\n",
              "        text-align: right;\n",
              "    }\n",
              "</style>\n",
              "<table border=\"1\" class=\"dataframe\">\n",
              "  <thead>\n",
              "    <tr style=\"text-align: right;\">\n",
              "      <th></th>\n",
              "      <th>CLASE_ACCIDENTE</th>\n",
              "      <th>CANT_HERIDOS_EN _SITIO_ACCIDENTE</th>\n",
              "    </tr>\n",
              "  </thead>\n",
              "  <tbody>\n",
              "    <tr>\n",
              "      <th>2</th>\n",
              "      <td>Choque</td>\n",
              "      <td>8980</td>\n",
              "    </tr>\n",
              "    <tr>\n",
              "      <th>0</th>\n",
              "      <td>Atropello</td>\n",
              "      <td>1677</td>\n",
              "    </tr>\n",
              "    <tr>\n",
              "      <th>1</th>\n",
              "      <td>Caida Ocupante</td>\n",
              "      <td>163</td>\n",
              "    </tr>\n",
              "    <tr>\n",
              "      <th>5</th>\n",
              "      <td>Volcamiento</td>\n",
              "      <td>130</td>\n",
              "    </tr>\n",
              "    <tr>\n",
              "      <th>4</th>\n",
              "      <td>Otro</td>\n",
              "      <td>121</td>\n",
              "    </tr>\n",
              "    <tr>\n",
              "      <th>3</th>\n",
              "      <td>Incendio</td>\n",
              "      <td>22</td>\n",
              "    </tr>\n",
              "  </tbody>\n",
              "</table>\n",
              "</div>"
            ],
            "text/plain": [
              "  CLASE_ACCIDENTE  CANT_HERIDOS_EN _SITIO_ACCIDENTE\n",
              "2          Choque                              8980\n",
              "0       Atropello                              1677\n",
              "1  Caida Ocupante                               163\n",
              "5     Volcamiento                               130\n",
              "4            Otro                               121\n",
              "3        Incendio                                22"
            ]
          },
          "execution_count": 17,
          "metadata": {},
          "output_type": "execute_result"
        }
      ],
      "source": [
        "df1 = df.copy()\n",
        "df1 = df1[[\"GRAVEDAD_ACCIDENTE\",\"CANT_HERIDOS_EN _SITIO_ACCIDENTE\",\"CLASE_ACCIDENTE\"]]\n",
        "df1 = df1.groupby(\"CLASE_ACCIDENTE\").sum().reset_index()\n",
        "df1 = df1.sort_values(by='CANT_HERIDOS_EN _SITIO_ACCIDENTE', ascending=False)\n",
        "\n",
        "\n",
        "\n",
        "fig = px.bar(df1,y=\"CANT_HERIDOS_EN _SITIO_ACCIDENTE\",x=\"CLASE_ACCIDENTE\",  labels={\n",
        "                     \"CANT_HERIDOS_EN _SITIO_ACCIDENTE\": \"Cantidad de heridos\",\n",
        "                     \"CLASE_ACCIDENTE\": \"Tipo de accidente\",\n",
        "                 },)\n",
        "fig.show()\n",
        "df2 = df.copy()\n",
        "df2 = df2.groupby(\"CLASE_ACCIDENTE\").sum().reset_index()\n",
        "df2 = df2.sort_values(by='CANT_MUERTOS_EN _SITIO_ACCIDENTE', ascending=False)\n",
        "fig = px.bar(df2,y=\"CANT_MUERTOS_EN _SITIO_ACCIDENTE\",x=\"CLASE_ACCIDENTE\",labels={\n",
        "                     \"CANT_MUERTOS_EN _SITIO_ACCIDENTE\": \"Cantidad de muertos\",\n",
        "                     \"CLASE_ACCIDENTE\": \"Tipo de accidente\",\n",
        "                 },)\n",
        "fig.show()\n",
        "df1"
      ]
    },
    {
      "cell_type": "markdown",
      "id": "37b81e53",
      "metadata": {
        "id": "37b81e53"
      },
      "source": [
        "## Grafica 2"
      ]
    },
    {
      "cell_type": "code",
      "execution_count": 5,
      "id": "43e30367",
      "metadata": {
        "colab": {
          "base_uri": "https://localhost:8080/",
          "height": 411
        },
        "id": "43e30367",
        "outputId": "40519c96-dc63-4888-ec9b-f9fa08185514"
      },
      "outputs": [
        {
          "data": {
            "text/html": [
              "<div>\n",
              "<style scoped>\n",
              "    .dataframe tbody tr th:only-of-type {\n",
              "        vertical-align: middle;\n",
              "    }\n",
              "\n",
              "    .dataframe tbody tr th {\n",
              "        vertical-align: top;\n",
              "    }\n",
              "\n",
              "    .dataframe thead th {\n",
              "        text-align: right;\n",
              "    }\n",
              "</style>\n",
              "<table border=\"1\" class=\"dataframe\">\n",
              "  <thead>\n",
              "    <tr style=\"text-align: right;\">\n",
              "      <th></th>\n",
              "      <th>MES_ACCIDENTE</th>\n",
              "      <th>CANTIDAD_ACCIDENTES</th>\n",
              "      <th>CANT_HERIDOS_EN _SITIO_ACCIDENTE</th>\n",
              "      <th>CANT_MUERTOS_EN _SITIO_ACCIDENTE</th>\n",
              "    </tr>\n",
              "  </thead>\n",
              "  <tbody>\n",
              "    <tr>\n",
              "      <th>0</th>\n",
              "      <td>1</td>\n",
              "      <td>3009</td>\n",
              "      <td>958</td>\n",
              "      <td>19</td>\n",
              "    </tr>\n",
              "    <tr>\n",
              "      <th>1</th>\n",
              "      <td>2</td>\n",
              "      <td>3248</td>\n",
              "      <td>937</td>\n",
              "      <td>21</td>\n",
              "    </tr>\n",
              "    <tr>\n",
              "      <th>2</th>\n",
              "      <td>3</td>\n",
              "      <td>3321</td>\n",
              "      <td>1026</td>\n",
              "      <td>24</td>\n",
              "    </tr>\n",
              "    <tr>\n",
              "      <th>3</th>\n",
              "      <td>4</td>\n",
              "      <td>2979</td>\n",
              "      <td>772</td>\n",
              "      <td>16</td>\n",
              "    </tr>\n",
              "    <tr>\n",
              "      <th>4</th>\n",
              "      <td>5</td>\n",
              "      <td>3063</td>\n",
              "      <td>875</td>\n",
              "      <td>18</td>\n",
              "    </tr>\n",
              "    <tr>\n",
              "      <th>5</th>\n",
              "      <td>6</td>\n",
              "      <td>2986</td>\n",
              "      <td>813</td>\n",
              "      <td>21</td>\n",
              "    </tr>\n",
              "    <tr>\n",
              "      <th>6</th>\n",
              "      <td>7</td>\n",
              "      <td>3069</td>\n",
              "      <td>915</td>\n",
              "      <td>19</td>\n",
              "    </tr>\n",
              "    <tr>\n",
              "      <th>7</th>\n",
              "      <td>8</td>\n",
              "      <td>3299</td>\n",
              "      <td>1007</td>\n",
              "      <td>22</td>\n",
              "    </tr>\n",
              "    <tr>\n",
              "      <th>8</th>\n",
              "      <td>9</td>\n",
              "      <td>3325</td>\n",
              "      <td>1047</td>\n",
              "      <td>27</td>\n",
              "    </tr>\n",
              "    <tr>\n",
              "      <th>9</th>\n",
              "      <td>10</td>\n",
              "      <td>2985</td>\n",
              "      <td>914</td>\n",
              "      <td>24</td>\n",
              "    </tr>\n",
              "    <tr>\n",
              "      <th>10</th>\n",
              "      <td>11</td>\n",
              "      <td>2966</td>\n",
              "      <td>898</td>\n",
              "      <td>15</td>\n",
              "    </tr>\n",
              "    <tr>\n",
              "      <th>11</th>\n",
              "      <td>12</td>\n",
              "      <td>3003</td>\n",
              "      <td>931</td>\n",
              "      <td>20</td>\n",
              "    </tr>\n",
              "  </tbody>\n",
              "</table>\n",
              "</div>"
            ],
            "text/plain": [
              "    MES_ACCIDENTE  CANTIDAD_ACCIDENTES  CANT_HERIDOS_EN _SITIO_ACCIDENTE  \\\n",
              "0               1                 3009                               958   \n",
              "1               2                 3248                               937   \n",
              "2               3                 3321                              1026   \n",
              "3               4                 2979                               772   \n",
              "4               5                 3063                               875   \n",
              "5               6                 2986                               813   \n",
              "6               7                 3069                               915   \n",
              "7               8                 3299                              1007   \n",
              "8               9                 3325                              1047   \n",
              "9              10                 2985                               914   \n",
              "10             11                 2966                               898   \n",
              "11             12                 3003                               931   \n",
              "\n",
              "    CANT_MUERTOS_EN _SITIO_ACCIDENTE  \n",
              "0                                 19  \n",
              "1                                 21  \n",
              "2                                 24  \n",
              "3                                 16  \n",
              "4                                 18  \n",
              "5                                 21  \n",
              "6                                 19  \n",
              "7                                 22  \n",
              "8                                 27  \n",
              "9                                 24  \n",
              "10                                15  \n",
              "11                                20  "
            ]
          },
          "execution_count": 5,
          "metadata": {},
          "output_type": "execute_result"
        }
      ],
      "source": [
        "df3 = df.copy()\n",
        "\n",
        "df3 = df3[[\"AÑO_ACCIDENTE\",\"MES_ACCIDENTE\",\"DIA_ACCIDENTE\",\"CANTIDAD_ACCIDENTES\",\"CANT_HERIDOS_EN _SITIO_ACCIDENTE\",\"CANT_MUERTOS_EN _SITIO_ACCIDENTE\"]]\n",
        "df4 = df3[[\"MES_ACCIDENTE\",\"CANTIDAD_ACCIDENTES\",\"CANT_HERIDOS_EN _SITIO_ACCIDENTE\",\"CANT_MUERTOS_EN _SITIO_ACCIDENTE\"]]\n",
        "df3 = df3.groupby(\"AÑO_ACCIDENTE\").sum().reset_index()\n",
        "df4 = df4.groupby(\"MES_ACCIDENTE\").sum().reset_index()\n",
        "df4\n"
      ]
    },
    {
      "cell_type": "code",
      "execution_count": 21,
      "id": "433f86a1",
      "metadata": {
        "colab": {
          "base_uri": "https://localhost:8080/",
          "height": 1000
        },
        "id": "433f86a1",
        "outputId": "0b2e2338-13c5-4203-8b67-2809dd5161ea"
      },
      "outputs": [
        {
          "data": {
            "application/vnd.plotly.v1+json": {
              "config": {
                "plotlyServerURL": "https://plot.ly"
              },
              "data": [
                {
                  "alignmentgroup": "True",
                  "hovertemplate": "Año=%{x}<br>Cantidad de heridos=%{y}<extra></extra>",
                  "legendgroup": "",
                  "marker": {
                    "color": "#636efa",
                    "pattern": {
                      "shape": ""
                    }
                  },
                  "name": "",
                  "offsetgroup": "",
                  "orientation": "v",
                  "showlegend": false,
                  "textposition": "auto",
                  "type": "bar",
                  "x": [
                    2015,
                    2016,
                    2017,
                    2018,
                    2019,
                    2020,
                    2021
                  ],
                  "xaxis": "x",
                  "y": [
                    1084,
                    1012,
                    1242,
                    2541,
                    2217,
                    1543,
                    1454
                  ],
                  "yaxis": "y"
                }
              ],
              "layout": {
                "barmode": "relative",
                "legend": {
                  "tracegroupgap": 0
                },
                "margin": {
                  "t": 60
                },
                "template": {
                  "data": {
                    "bar": [
                      {
                        "error_x": {
                          "color": "#2a3f5f"
                        },
                        "error_y": {
                          "color": "#2a3f5f"
                        },
                        "marker": {
                          "line": {
                            "color": "#E5ECF6",
                            "width": 0.5
                          },
                          "pattern": {
                            "fillmode": "overlay",
                            "size": 10,
                            "solidity": 0.2
                          }
                        },
                        "type": "bar"
                      }
                    ],
                    "barpolar": [
                      {
                        "marker": {
                          "line": {
                            "color": "#E5ECF6",
                            "width": 0.5
                          },
                          "pattern": {
                            "fillmode": "overlay",
                            "size": 10,
                            "solidity": 0.2
                          }
                        },
                        "type": "barpolar"
                      }
                    ],
                    "carpet": [
                      {
                        "aaxis": {
                          "endlinecolor": "#2a3f5f",
                          "gridcolor": "white",
                          "linecolor": "white",
                          "minorgridcolor": "white",
                          "startlinecolor": "#2a3f5f"
                        },
                        "baxis": {
                          "endlinecolor": "#2a3f5f",
                          "gridcolor": "white",
                          "linecolor": "white",
                          "minorgridcolor": "white",
                          "startlinecolor": "#2a3f5f"
                        },
                        "type": "carpet"
                      }
                    ],
                    "choropleth": [
                      {
                        "colorbar": {
                          "outlinewidth": 0,
                          "ticks": ""
                        },
                        "type": "choropleth"
                      }
                    ],
                    "contour": [
                      {
                        "colorbar": {
                          "outlinewidth": 0,
                          "ticks": ""
                        },
                        "colorscale": [
                          [
                            0,
                            "#0d0887"
                          ],
                          [
                            0.1111111111111111,
                            "#46039f"
                          ],
                          [
                            0.2222222222222222,
                            "#7201a8"
                          ],
                          [
                            0.3333333333333333,
                            "#9c179e"
                          ],
                          [
                            0.4444444444444444,
                            "#bd3786"
                          ],
                          [
                            0.5555555555555556,
                            "#d8576b"
                          ],
                          [
                            0.6666666666666666,
                            "#ed7953"
                          ],
                          [
                            0.7777777777777778,
                            "#fb9f3a"
                          ],
                          [
                            0.8888888888888888,
                            "#fdca26"
                          ],
                          [
                            1,
                            "#f0f921"
                          ]
                        ],
                        "type": "contour"
                      }
                    ],
                    "contourcarpet": [
                      {
                        "colorbar": {
                          "outlinewidth": 0,
                          "ticks": ""
                        },
                        "type": "contourcarpet"
                      }
                    ],
                    "heatmap": [
                      {
                        "colorbar": {
                          "outlinewidth": 0,
                          "ticks": ""
                        },
                        "colorscale": [
                          [
                            0,
                            "#0d0887"
                          ],
                          [
                            0.1111111111111111,
                            "#46039f"
                          ],
                          [
                            0.2222222222222222,
                            "#7201a8"
                          ],
                          [
                            0.3333333333333333,
                            "#9c179e"
                          ],
                          [
                            0.4444444444444444,
                            "#bd3786"
                          ],
                          [
                            0.5555555555555556,
                            "#d8576b"
                          ],
                          [
                            0.6666666666666666,
                            "#ed7953"
                          ],
                          [
                            0.7777777777777778,
                            "#fb9f3a"
                          ],
                          [
                            0.8888888888888888,
                            "#fdca26"
                          ],
                          [
                            1,
                            "#f0f921"
                          ]
                        ],
                        "type": "heatmap"
                      }
                    ],
                    "heatmapgl": [
                      {
                        "colorbar": {
                          "outlinewidth": 0,
                          "ticks": ""
                        },
                        "colorscale": [
                          [
                            0,
                            "#0d0887"
                          ],
                          [
                            0.1111111111111111,
                            "#46039f"
                          ],
                          [
                            0.2222222222222222,
                            "#7201a8"
                          ],
                          [
                            0.3333333333333333,
                            "#9c179e"
                          ],
                          [
                            0.4444444444444444,
                            "#bd3786"
                          ],
                          [
                            0.5555555555555556,
                            "#d8576b"
                          ],
                          [
                            0.6666666666666666,
                            "#ed7953"
                          ],
                          [
                            0.7777777777777778,
                            "#fb9f3a"
                          ],
                          [
                            0.8888888888888888,
                            "#fdca26"
                          ],
                          [
                            1,
                            "#f0f921"
                          ]
                        ],
                        "type": "heatmapgl"
                      }
                    ],
                    "histogram": [
                      {
                        "marker": {
                          "pattern": {
                            "fillmode": "overlay",
                            "size": 10,
                            "solidity": 0.2
                          }
                        },
                        "type": "histogram"
                      }
                    ],
                    "histogram2d": [
                      {
                        "colorbar": {
                          "outlinewidth": 0,
                          "ticks": ""
                        },
                        "colorscale": [
                          [
                            0,
                            "#0d0887"
                          ],
                          [
                            0.1111111111111111,
                            "#46039f"
                          ],
                          [
                            0.2222222222222222,
                            "#7201a8"
                          ],
                          [
                            0.3333333333333333,
                            "#9c179e"
                          ],
                          [
                            0.4444444444444444,
                            "#bd3786"
                          ],
                          [
                            0.5555555555555556,
                            "#d8576b"
                          ],
                          [
                            0.6666666666666666,
                            "#ed7953"
                          ],
                          [
                            0.7777777777777778,
                            "#fb9f3a"
                          ],
                          [
                            0.8888888888888888,
                            "#fdca26"
                          ],
                          [
                            1,
                            "#f0f921"
                          ]
                        ],
                        "type": "histogram2d"
                      }
                    ],
                    "histogram2dcontour": [
                      {
                        "colorbar": {
                          "outlinewidth": 0,
                          "ticks": ""
                        },
                        "colorscale": [
                          [
                            0,
                            "#0d0887"
                          ],
                          [
                            0.1111111111111111,
                            "#46039f"
                          ],
                          [
                            0.2222222222222222,
                            "#7201a8"
                          ],
                          [
                            0.3333333333333333,
                            "#9c179e"
                          ],
                          [
                            0.4444444444444444,
                            "#bd3786"
                          ],
                          [
                            0.5555555555555556,
                            "#d8576b"
                          ],
                          [
                            0.6666666666666666,
                            "#ed7953"
                          ],
                          [
                            0.7777777777777778,
                            "#fb9f3a"
                          ],
                          [
                            0.8888888888888888,
                            "#fdca26"
                          ],
                          [
                            1,
                            "#f0f921"
                          ]
                        ],
                        "type": "histogram2dcontour"
                      }
                    ],
                    "mesh3d": [
                      {
                        "colorbar": {
                          "outlinewidth": 0,
                          "ticks": ""
                        },
                        "type": "mesh3d"
                      }
                    ],
                    "parcoords": [
                      {
                        "line": {
                          "colorbar": {
                            "outlinewidth": 0,
                            "ticks": ""
                          }
                        },
                        "type": "parcoords"
                      }
                    ],
                    "pie": [
                      {
                        "automargin": true,
                        "type": "pie"
                      }
                    ],
                    "scatter": [
                      {
                        "marker": {
                          "colorbar": {
                            "outlinewidth": 0,
                            "ticks": ""
                          }
                        },
                        "type": "scatter"
                      }
                    ],
                    "scatter3d": [
                      {
                        "line": {
                          "colorbar": {
                            "outlinewidth": 0,
                            "ticks": ""
                          }
                        },
                        "marker": {
                          "colorbar": {
                            "outlinewidth": 0,
                            "ticks": ""
                          }
                        },
                        "type": "scatter3d"
                      }
                    ],
                    "scattercarpet": [
                      {
                        "marker": {
                          "colorbar": {
                            "outlinewidth": 0,
                            "ticks": ""
                          }
                        },
                        "type": "scattercarpet"
                      }
                    ],
                    "scattergeo": [
                      {
                        "marker": {
                          "colorbar": {
                            "outlinewidth": 0,
                            "ticks": ""
                          }
                        },
                        "type": "scattergeo"
                      }
                    ],
                    "scattergl": [
                      {
                        "marker": {
                          "colorbar": {
                            "outlinewidth": 0,
                            "ticks": ""
                          }
                        },
                        "type": "scattergl"
                      }
                    ],
                    "scattermapbox": [
                      {
                        "marker": {
                          "colorbar": {
                            "outlinewidth": 0,
                            "ticks": ""
                          }
                        },
                        "type": "scattermapbox"
                      }
                    ],
                    "scatterpolar": [
                      {
                        "marker": {
                          "colorbar": {
                            "outlinewidth": 0,
                            "ticks": ""
                          }
                        },
                        "type": "scatterpolar"
                      }
                    ],
                    "scatterpolargl": [
                      {
                        "marker": {
                          "colorbar": {
                            "outlinewidth": 0,
                            "ticks": ""
                          }
                        },
                        "type": "scatterpolargl"
                      }
                    ],
                    "scatterternary": [
                      {
                        "marker": {
                          "colorbar": {
                            "outlinewidth": 0,
                            "ticks": ""
                          }
                        },
                        "type": "scatterternary"
                      }
                    ],
                    "surface": [
                      {
                        "colorbar": {
                          "outlinewidth": 0,
                          "ticks": ""
                        },
                        "colorscale": [
                          [
                            0,
                            "#0d0887"
                          ],
                          [
                            0.1111111111111111,
                            "#46039f"
                          ],
                          [
                            0.2222222222222222,
                            "#7201a8"
                          ],
                          [
                            0.3333333333333333,
                            "#9c179e"
                          ],
                          [
                            0.4444444444444444,
                            "#bd3786"
                          ],
                          [
                            0.5555555555555556,
                            "#d8576b"
                          ],
                          [
                            0.6666666666666666,
                            "#ed7953"
                          ],
                          [
                            0.7777777777777778,
                            "#fb9f3a"
                          ],
                          [
                            0.8888888888888888,
                            "#fdca26"
                          ],
                          [
                            1,
                            "#f0f921"
                          ]
                        ],
                        "type": "surface"
                      }
                    ],
                    "table": [
                      {
                        "cells": {
                          "fill": {
                            "color": "#EBF0F8"
                          },
                          "line": {
                            "color": "white"
                          }
                        },
                        "header": {
                          "fill": {
                            "color": "#C8D4E3"
                          },
                          "line": {
                            "color": "white"
                          }
                        },
                        "type": "table"
                      }
                    ]
                  },
                  "layout": {
                    "annotationdefaults": {
                      "arrowcolor": "#2a3f5f",
                      "arrowhead": 0,
                      "arrowwidth": 1
                    },
                    "autotypenumbers": "strict",
                    "coloraxis": {
                      "colorbar": {
                        "outlinewidth": 0,
                        "ticks": ""
                      }
                    },
                    "colorscale": {
                      "diverging": [
                        [
                          0,
                          "#8e0152"
                        ],
                        [
                          0.1,
                          "#c51b7d"
                        ],
                        [
                          0.2,
                          "#de77ae"
                        ],
                        [
                          0.3,
                          "#f1b6da"
                        ],
                        [
                          0.4,
                          "#fde0ef"
                        ],
                        [
                          0.5,
                          "#f7f7f7"
                        ],
                        [
                          0.6,
                          "#e6f5d0"
                        ],
                        [
                          0.7,
                          "#b8e186"
                        ],
                        [
                          0.8,
                          "#7fbc41"
                        ],
                        [
                          0.9,
                          "#4d9221"
                        ],
                        [
                          1,
                          "#276419"
                        ]
                      ],
                      "sequential": [
                        [
                          0,
                          "#0d0887"
                        ],
                        [
                          0.1111111111111111,
                          "#46039f"
                        ],
                        [
                          0.2222222222222222,
                          "#7201a8"
                        ],
                        [
                          0.3333333333333333,
                          "#9c179e"
                        ],
                        [
                          0.4444444444444444,
                          "#bd3786"
                        ],
                        [
                          0.5555555555555556,
                          "#d8576b"
                        ],
                        [
                          0.6666666666666666,
                          "#ed7953"
                        ],
                        [
                          0.7777777777777778,
                          "#fb9f3a"
                        ],
                        [
                          0.8888888888888888,
                          "#fdca26"
                        ],
                        [
                          1,
                          "#f0f921"
                        ]
                      ],
                      "sequentialminus": [
                        [
                          0,
                          "#0d0887"
                        ],
                        [
                          0.1111111111111111,
                          "#46039f"
                        ],
                        [
                          0.2222222222222222,
                          "#7201a8"
                        ],
                        [
                          0.3333333333333333,
                          "#9c179e"
                        ],
                        [
                          0.4444444444444444,
                          "#bd3786"
                        ],
                        [
                          0.5555555555555556,
                          "#d8576b"
                        ],
                        [
                          0.6666666666666666,
                          "#ed7953"
                        ],
                        [
                          0.7777777777777778,
                          "#fb9f3a"
                        ],
                        [
                          0.8888888888888888,
                          "#fdca26"
                        ],
                        [
                          1,
                          "#f0f921"
                        ]
                      ]
                    },
                    "colorway": [
                      "#636efa",
                      "#EF553B",
                      "#00cc96",
                      "#ab63fa",
                      "#FFA15A",
                      "#19d3f3",
                      "#FF6692",
                      "#B6E880",
                      "#FF97FF",
                      "#FECB52"
                    ],
                    "font": {
                      "color": "#2a3f5f"
                    },
                    "geo": {
                      "bgcolor": "white",
                      "lakecolor": "white",
                      "landcolor": "#E5ECF6",
                      "showlakes": true,
                      "showland": true,
                      "subunitcolor": "white"
                    },
                    "hoverlabel": {
                      "align": "left"
                    },
                    "hovermode": "closest",
                    "mapbox": {
                      "style": "light"
                    },
                    "paper_bgcolor": "white",
                    "plot_bgcolor": "#E5ECF6",
                    "polar": {
                      "angularaxis": {
                        "gridcolor": "white",
                        "linecolor": "white",
                        "ticks": ""
                      },
                      "bgcolor": "#E5ECF6",
                      "radialaxis": {
                        "gridcolor": "white",
                        "linecolor": "white",
                        "ticks": ""
                      }
                    },
                    "scene": {
                      "xaxis": {
                        "backgroundcolor": "#E5ECF6",
                        "gridcolor": "white",
                        "gridwidth": 2,
                        "linecolor": "white",
                        "showbackground": true,
                        "ticks": "",
                        "zerolinecolor": "white"
                      },
                      "yaxis": {
                        "backgroundcolor": "#E5ECF6",
                        "gridcolor": "white",
                        "gridwidth": 2,
                        "linecolor": "white",
                        "showbackground": true,
                        "ticks": "",
                        "zerolinecolor": "white"
                      },
                      "zaxis": {
                        "backgroundcolor": "#E5ECF6",
                        "gridcolor": "white",
                        "gridwidth": 2,
                        "linecolor": "white",
                        "showbackground": true,
                        "ticks": "",
                        "zerolinecolor": "white"
                      }
                    },
                    "shapedefaults": {
                      "line": {
                        "color": "#2a3f5f"
                      }
                    },
                    "ternary": {
                      "aaxis": {
                        "gridcolor": "white",
                        "linecolor": "white",
                        "ticks": ""
                      },
                      "baxis": {
                        "gridcolor": "white",
                        "linecolor": "white",
                        "ticks": ""
                      },
                      "bgcolor": "#E5ECF6",
                      "caxis": {
                        "gridcolor": "white",
                        "linecolor": "white",
                        "ticks": ""
                      }
                    },
                    "title": {
                      "x": 0.05
                    },
                    "xaxis": {
                      "automargin": true,
                      "gridcolor": "white",
                      "linecolor": "white",
                      "ticks": "",
                      "title": {
                        "standoff": 15
                      },
                      "zerolinecolor": "white",
                      "zerolinewidth": 2
                    },
                    "yaxis": {
                      "automargin": true,
                      "gridcolor": "white",
                      "linecolor": "white",
                      "ticks": "",
                      "title": {
                        "standoff": 15
                      },
                      "zerolinecolor": "white",
                      "zerolinewidth": 2
                    }
                  }
                },
                "xaxis": {
                  "anchor": "y",
                  "domain": [
                    0,
                    1
                  ],
                  "title": {
                    "text": "Año"
                  }
                },
                "yaxis": {
                  "anchor": "x",
                  "domain": [
                    0,
                    1
                  ],
                  "title": {
                    "text": "Cantidad de heridos"
                  }
                }
              }
            }
          },
          "metadata": {},
          "output_type": "display_data"
        },
        {
          "data": {
            "application/vnd.plotly.v1+json": {
              "config": {
                "plotlyServerURL": "https://plot.ly"
              },
              "data": [
                {
                  "alignmentgroup": "True",
                  "hovertemplate": "Mes=%{x}<br>Cantidad de heridos=%{y}<extra></extra>",
                  "legendgroup": "",
                  "marker": {
                    "color": "#636efa",
                    "pattern": {
                      "shape": ""
                    }
                  },
                  "name": "",
                  "offsetgroup": "",
                  "orientation": "v",
                  "showlegend": false,
                  "textposition": "auto",
                  "type": "bar",
                  "x": [
                    1,
                    2,
                    3,
                    4,
                    5,
                    6,
                    7,
                    8,
                    9,
                    10,
                    11,
                    12
                  ],
                  "xaxis": "x",
                  "y": [
                    958,
                    937,
                    1026,
                    772,
                    875,
                    813,
                    915,
                    1007,
                    1047,
                    914,
                    898,
                    931
                  ],
                  "yaxis": "y"
                }
              ],
              "layout": {
                "barmode": "relative",
                "legend": {
                  "tracegroupgap": 0
                },
                "margin": {
                  "t": 60
                },
                "template": {
                  "data": {
                    "bar": [
                      {
                        "error_x": {
                          "color": "#2a3f5f"
                        },
                        "error_y": {
                          "color": "#2a3f5f"
                        },
                        "marker": {
                          "line": {
                            "color": "#E5ECF6",
                            "width": 0.5
                          },
                          "pattern": {
                            "fillmode": "overlay",
                            "size": 10,
                            "solidity": 0.2
                          }
                        },
                        "type": "bar"
                      }
                    ],
                    "barpolar": [
                      {
                        "marker": {
                          "line": {
                            "color": "#E5ECF6",
                            "width": 0.5
                          },
                          "pattern": {
                            "fillmode": "overlay",
                            "size": 10,
                            "solidity": 0.2
                          }
                        },
                        "type": "barpolar"
                      }
                    ],
                    "carpet": [
                      {
                        "aaxis": {
                          "endlinecolor": "#2a3f5f",
                          "gridcolor": "white",
                          "linecolor": "white",
                          "minorgridcolor": "white",
                          "startlinecolor": "#2a3f5f"
                        },
                        "baxis": {
                          "endlinecolor": "#2a3f5f",
                          "gridcolor": "white",
                          "linecolor": "white",
                          "minorgridcolor": "white",
                          "startlinecolor": "#2a3f5f"
                        },
                        "type": "carpet"
                      }
                    ],
                    "choropleth": [
                      {
                        "colorbar": {
                          "outlinewidth": 0,
                          "ticks": ""
                        },
                        "type": "choropleth"
                      }
                    ],
                    "contour": [
                      {
                        "colorbar": {
                          "outlinewidth": 0,
                          "ticks": ""
                        },
                        "colorscale": [
                          [
                            0,
                            "#0d0887"
                          ],
                          [
                            0.1111111111111111,
                            "#46039f"
                          ],
                          [
                            0.2222222222222222,
                            "#7201a8"
                          ],
                          [
                            0.3333333333333333,
                            "#9c179e"
                          ],
                          [
                            0.4444444444444444,
                            "#bd3786"
                          ],
                          [
                            0.5555555555555556,
                            "#d8576b"
                          ],
                          [
                            0.6666666666666666,
                            "#ed7953"
                          ],
                          [
                            0.7777777777777778,
                            "#fb9f3a"
                          ],
                          [
                            0.8888888888888888,
                            "#fdca26"
                          ],
                          [
                            1,
                            "#f0f921"
                          ]
                        ],
                        "type": "contour"
                      }
                    ],
                    "contourcarpet": [
                      {
                        "colorbar": {
                          "outlinewidth": 0,
                          "ticks": ""
                        },
                        "type": "contourcarpet"
                      }
                    ],
                    "heatmap": [
                      {
                        "colorbar": {
                          "outlinewidth": 0,
                          "ticks": ""
                        },
                        "colorscale": [
                          [
                            0,
                            "#0d0887"
                          ],
                          [
                            0.1111111111111111,
                            "#46039f"
                          ],
                          [
                            0.2222222222222222,
                            "#7201a8"
                          ],
                          [
                            0.3333333333333333,
                            "#9c179e"
                          ],
                          [
                            0.4444444444444444,
                            "#bd3786"
                          ],
                          [
                            0.5555555555555556,
                            "#d8576b"
                          ],
                          [
                            0.6666666666666666,
                            "#ed7953"
                          ],
                          [
                            0.7777777777777778,
                            "#fb9f3a"
                          ],
                          [
                            0.8888888888888888,
                            "#fdca26"
                          ],
                          [
                            1,
                            "#f0f921"
                          ]
                        ],
                        "type": "heatmap"
                      }
                    ],
                    "heatmapgl": [
                      {
                        "colorbar": {
                          "outlinewidth": 0,
                          "ticks": ""
                        },
                        "colorscale": [
                          [
                            0,
                            "#0d0887"
                          ],
                          [
                            0.1111111111111111,
                            "#46039f"
                          ],
                          [
                            0.2222222222222222,
                            "#7201a8"
                          ],
                          [
                            0.3333333333333333,
                            "#9c179e"
                          ],
                          [
                            0.4444444444444444,
                            "#bd3786"
                          ],
                          [
                            0.5555555555555556,
                            "#d8576b"
                          ],
                          [
                            0.6666666666666666,
                            "#ed7953"
                          ],
                          [
                            0.7777777777777778,
                            "#fb9f3a"
                          ],
                          [
                            0.8888888888888888,
                            "#fdca26"
                          ],
                          [
                            1,
                            "#f0f921"
                          ]
                        ],
                        "type": "heatmapgl"
                      }
                    ],
                    "histogram": [
                      {
                        "marker": {
                          "pattern": {
                            "fillmode": "overlay",
                            "size": 10,
                            "solidity": 0.2
                          }
                        },
                        "type": "histogram"
                      }
                    ],
                    "histogram2d": [
                      {
                        "colorbar": {
                          "outlinewidth": 0,
                          "ticks": ""
                        },
                        "colorscale": [
                          [
                            0,
                            "#0d0887"
                          ],
                          [
                            0.1111111111111111,
                            "#46039f"
                          ],
                          [
                            0.2222222222222222,
                            "#7201a8"
                          ],
                          [
                            0.3333333333333333,
                            "#9c179e"
                          ],
                          [
                            0.4444444444444444,
                            "#bd3786"
                          ],
                          [
                            0.5555555555555556,
                            "#d8576b"
                          ],
                          [
                            0.6666666666666666,
                            "#ed7953"
                          ],
                          [
                            0.7777777777777778,
                            "#fb9f3a"
                          ],
                          [
                            0.8888888888888888,
                            "#fdca26"
                          ],
                          [
                            1,
                            "#f0f921"
                          ]
                        ],
                        "type": "histogram2d"
                      }
                    ],
                    "histogram2dcontour": [
                      {
                        "colorbar": {
                          "outlinewidth": 0,
                          "ticks": ""
                        },
                        "colorscale": [
                          [
                            0,
                            "#0d0887"
                          ],
                          [
                            0.1111111111111111,
                            "#46039f"
                          ],
                          [
                            0.2222222222222222,
                            "#7201a8"
                          ],
                          [
                            0.3333333333333333,
                            "#9c179e"
                          ],
                          [
                            0.4444444444444444,
                            "#bd3786"
                          ],
                          [
                            0.5555555555555556,
                            "#d8576b"
                          ],
                          [
                            0.6666666666666666,
                            "#ed7953"
                          ],
                          [
                            0.7777777777777778,
                            "#fb9f3a"
                          ],
                          [
                            0.8888888888888888,
                            "#fdca26"
                          ],
                          [
                            1,
                            "#f0f921"
                          ]
                        ],
                        "type": "histogram2dcontour"
                      }
                    ],
                    "mesh3d": [
                      {
                        "colorbar": {
                          "outlinewidth": 0,
                          "ticks": ""
                        },
                        "type": "mesh3d"
                      }
                    ],
                    "parcoords": [
                      {
                        "line": {
                          "colorbar": {
                            "outlinewidth": 0,
                            "ticks": ""
                          }
                        },
                        "type": "parcoords"
                      }
                    ],
                    "pie": [
                      {
                        "automargin": true,
                        "type": "pie"
                      }
                    ],
                    "scatter": [
                      {
                        "marker": {
                          "colorbar": {
                            "outlinewidth": 0,
                            "ticks": ""
                          }
                        },
                        "type": "scatter"
                      }
                    ],
                    "scatter3d": [
                      {
                        "line": {
                          "colorbar": {
                            "outlinewidth": 0,
                            "ticks": ""
                          }
                        },
                        "marker": {
                          "colorbar": {
                            "outlinewidth": 0,
                            "ticks": ""
                          }
                        },
                        "type": "scatter3d"
                      }
                    ],
                    "scattercarpet": [
                      {
                        "marker": {
                          "colorbar": {
                            "outlinewidth": 0,
                            "ticks": ""
                          }
                        },
                        "type": "scattercarpet"
                      }
                    ],
                    "scattergeo": [
                      {
                        "marker": {
                          "colorbar": {
                            "outlinewidth": 0,
                            "ticks": ""
                          }
                        },
                        "type": "scattergeo"
                      }
                    ],
                    "scattergl": [
                      {
                        "marker": {
                          "colorbar": {
                            "outlinewidth": 0,
                            "ticks": ""
                          }
                        },
                        "type": "scattergl"
                      }
                    ],
                    "scattermapbox": [
                      {
                        "marker": {
                          "colorbar": {
                            "outlinewidth": 0,
                            "ticks": ""
                          }
                        },
                        "type": "scattermapbox"
                      }
                    ],
                    "scatterpolar": [
                      {
                        "marker": {
                          "colorbar": {
                            "outlinewidth": 0,
                            "ticks": ""
                          }
                        },
                        "type": "scatterpolar"
                      }
                    ],
                    "scatterpolargl": [
                      {
                        "marker": {
                          "colorbar": {
                            "outlinewidth": 0,
                            "ticks": ""
                          }
                        },
                        "type": "scatterpolargl"
                      }
                    ],
                    "scatterternary": [
                      {
                        "marker": {
                          "colorbar": {
                            "outlinewidth": 0,
                            "ticks": ""
                          }
                        },
                        "type": "scatterternary"
                      }
                    ],
                    "surface": [
                      {
                        "colorbar": {
                          "outlinewidth": 0,
                          "ticks": ""
                        },
                        "colorscale": [
                          [
                            0,
                            "#0d0887"
                          ],
                          [
                            0.1111111111111111,
                            "#46039f"
                          ],
                          [
                            0.2222222222222222,
                            "#7201a8"
                          ],
                          [
                            0.3333333333333333,
                            "#9c179e"
                          ],
                          [
                            0.4444444444444444,
                            "#bd3786"
                          ],
                          [
                            0.5555555555555556,
                            "#d8576b"
                          ],
                          [
                            0.6666666666666666,
                            "#ed7953"
                          ],
                          [
                            0.7777777777777778,
                            "#fb9f3a"
                          ],
                          [
                            0.8888888888888888,
                            "#fdca26"
                          ],
                          [
                            1,
                            "#f0f921"
                          ]
                        ],
                        "type": "surface"
                      }
                    ],
                    "table": [
                      {
                        "cells": {
                          "fill": {
                            "color": "#EBF0F8"
                          },
                          "line": {
                            "color": "white"
                          }
                        },
                        "header": {
                          "fill": {
                            "color": "#C8D4E3"
                          },
                          "line": {
                            "color": "white"
                          }
                        },
                        "type": "table"
                      }
                    ]
                  },
                  "layout": {
                    "annotationdefaults": {
                      "arrowcolor": "#2a3f5f",
                      "arrowhead": 0,
                      "arrowwidth": 1
                    },
                    "autotypenumbers": "strict",
                    "coloraxis": {
                      "colorbar": {
                        "outlinewidth": 0,
                        "ticks": ""
                      }
                    },
                    "colorscale": {
                      "diverging": [
                        [
                          0,
                          "#8e0152"
                        ],
                        [
                          0.1,
                          "#c51b7d"
                        ],
                        [
                          0.2,
                          "#de77ae"
                        ],
                        [
                          0.3,
                          "#f1b6da"
                        ],
                        [
                          0.4,
                          "#fde0ef"
                        ],
                        [
                          0.5,
                          "#f7f7f7"
                        ],
                        [
                          0.6,
                          "#e6f5d0"
                        ],
                        [
                          0.7,
                          "#b8e186"
                        ],
                        [
                          0.8,
                          "#7fbc41"
                        ],
                        [
                          0.9,
                          "#4d9221"
                        ],
                        [
                          1,
                          "#276419"
                        ]
                      ],
                      "sequential": [
                        [
                          0,
                          "#0d0887"
                        ],
                        [
                          0.1111111111111111,
                          "#46039f"
                        ],
                        [
                          0.2222222222222222,
                          "#7201a8"
                        ],
                        [
                          0.3333333333333333,
                          "#9c179e"
                        ],
                        [
                          0.4444444444444444,
                          "#bd3786"
                        ],
                        [
                          0.5555555555555556,
                          "#d8576b"
                        ],
                        [
                          0.6666666666666666,
                          "#ed7953"
                        ],
                        [
                          0.7777777777777778,
                          "#fb9f3a"
                        ],
                        [
                          0.8888888888888888,
                          "#fdca26"
                        ],
                        [
                          1,
                          "#f0f921"
                        ]
                      ],
                      "sequentialminus": [
                        [
                          0,
                          "#0d0887"
                        ],
                        [
                          0.1111111111111111,
                          "#46039f"
                        ],
                        [
                          0.2222222222222222,
                          "#7201a8"
                        ],
                        [
                          0.3333333333333333,
                          "#9c179e"
                        ],
                        [
                          0.4444444444444444,
                          "#bd3786"
                        ],
                        [
                          0.5555555555555556,
                          "#d8576b"
                        ],
                        [
                          0.6666666666666666,
                          "#ed7953"
                        ],
                        [
                          0.7777777777777778,
                          "#fb9f3a"
                        ],
                        [
                          0.8888888888888888,
                          "#fdca26"
                        ],
                        [
                          1,
                          "#f0f921"
                        ]
                      ]
                    },
                    "colorway": [
                      "#636efa",
                      "#EF553B",
                      "#00cc96",
                      "#ab63fa",
                      "#FFA15A",
                      "#19d3f3",
                      "#FF6692",
                      "#B6E880",
                      "#FF97FF",
                      "#FECB52"
                    ],
                    "font": {
                      "color": "#2a3f5f"
                    },
                    "geo": {
                      "bgcolor": "white",
                      "lakecolor": "white",
                      "landcolor": "#E5ECF6",
                      "showlakes": true,
                      "showland": true,
                      "subunitcolor": "white"
                    },
                    "hoverlabel": {
                      "align": "left"
                    },
                    "hovermode": "closest",
                    "mapbox": {
                      "style": "light"
                    },
                    "paper_bgcolor": "white",
                    "plot_bgcolor": "#E5ECF6",
                    "polar": {
                      "angularaxis": {
                        "gridcolor": "white",
                        "linecolor": "white",
                        "ticks": ""
                      },
                      "bgcolor": "#E5ECF6",
                      "radialaxis": {
                        "gridcolor": "white",
                        "linecolor": "white",
                        "ticks": ""
                      }
                    },
                    "scene": {
                      "xaxis": {
                        "backgroundcolor": "#E5ECF6",
                        "gridcolor": "white",
                        "gridwidth": 2,
                        "linecolor": "white",
                        "showbackground": true,
                        "ticks": "",
                        "zerolinecolor": "white"
                      },
                      "yaxis": {
                        "backgroundcolor": "#E5ECF6",
                        "gridcolor": "white",
                        "gridwidth": 2,
                        "linecolor": "white",
                        "showbackground": true,
                        "ticks": "",
                        "zerolinecolor": "white"
                      },
                      "zaxis": {
                        "backgroundcolor": "#E5ECF6",
                        "gridcolor": "white",
                        "gridwidth": 2,
                        "linecolor": "white",
                        "showbackground": true,
                        "ticks": "",
                        "zerolinecolor": "white"
                      }
                    },
                    "shapedefaults": {
                      "line": {
                        "color": "#2a3f5f"
                      }
                    },
                    "ternary": {
                      "aaxis": {
                        "gridcolor": "white",
                        "linecolor": "white",
                        "ticks": ""
                      },
                      "baxis": {
                        "gridcolor": "white",
                        "linecolor": "white",
                        "ticks": ""
                      },
                      "bgcolor": "#E5ECF6",
                      "caxis": {
                        "gridcolor": "white",
                        "linecolor": "white",
                        "ticks": ""
                      }
                    },
                    "title": {
                      "x": 0.05
                    },
                    "xaxis": {
                      "automargin": true,
                      "gridcolor": "white",
                      "linecolor": "white",
                      "ticks": "",
                      "title": {
                        "standoff": 15
                      },
                      "zerolinecolor": "white",
                      "zerolinewidth": 2
                    },
                    "yaxis": {
                      "automargin": true,
                      "gridcolor": "white",
                      "linecolor": "white",
                      "ticks": "",
                      "title": {
                        "standoff": 15
                      },
                      "zerolinecolor": "white",
                      "zerolinewidth": 2
                    }
                  }
                },
                "xaxis": {
                  "anchor": "y",
                  "domain": [
                    0,
                    1
                  ],
                  "title": {
                    "text": "Mes"
                  }
                },
                "yaxis": {
                  "anchor": "x",
                  "domain": [
                    0,
                    1
                  ],
                  "title": {
                    "text": "Cantidad de heridos"
                  }
                }
              }
            }
          },
          "metadata": {},
          "output_type": "display_data"
        }
      ],
      "source": [
        "fig = px.bar(df3,y=\"CANT_HERIDOS_EN _SITIO_ACCIDENTE\",x=\"AÑO_ACCIDENTE\",labels={\n",
        "                     \"CANT_HERIDOS_EN _SITIO_ACCIDENTE\": \"Cantidad de heridos\",\n",
        "                     \"AÑO_ACCIDENTE\": \"Año\",\n",
        "                 })\n",
        "fig.show()\n",
        "fig = px.bar(df4,y=\"CANT_HERIDOS_EN _SITIO_ACCIDENTE\",x=\"MES_ACCIDENTE\",labels={\n",
        "                     \"CANT_HERIDOS_EN _SITIO_ACCIDENTE\": \"Cantidad de heridos\",\n",
        "                     \"MES_ACCIDENTE\": \"Mes\",\n",
        "                 })\n",
        "fig.show()"
      ]
    },
    {
      "cell_type": "markdown",
      "id": "be678430",
      "metadata": {
        "id": "be678430"
      },
      "source": [
        "## Grafica 3"
      ]
    },
    {
      "cell_type": "code",
      "execution_count": 7,
      "id": "6c4236c0",
      "metadata": {
        "colab": {
          "base_uri": "https://localhost:8080/",
          "height": 408
        },
        "id": "6c4236c0",
        "outputId": "cdc4fd6f-dd33-48c8-df53-0f0d4edb2b49"
      },
      "outputs": [
        {
          "data": {
            "text/html": [
              "<div>\n",
              "<style scoped>\n",
              "    .dataframe tbody tr th:only-of-type {\n",
              "        vertical-align: middle;\n",
              "    }\n",
              "\n",
              "    .dataframe tbody tr th {\n",
              "        vertical-align: top;\n",
              "    }\n",
              "\n",
              "    .dataframe thead th {\n",
              "        text-align: right;\n",
              "    }\n",
              "</style>\n",
              "<table border=\"1\" class=\"dataframe\">\n",
              "  <thead>\n",
              "    <tr style=\"text-align: right;\">\n",
              "      <th></th>\n",
              "      <th>HORA_ACCIDENTE</th>\n",
              "      <th>CANTIDAD_ACCIDENTES</th>\n",
              "      <th>CANT_HERIDOS_EN _SITIO_ACCIDENTE</th>\n",
              "      <th>CANT_MUERTOS_EN _SITIO_ACCIDENTE</th>\n",
              "    </tr>\n",
              "  </thead>\n",
              "  <tbody>\n",
              "    <tr>\n",
              "      <th>0</th>\n",
              "      <td>01:00:00:AM</td>\n",
              "      <td>71</td>\n",
              "      <td>30</td>\n",
              "      <td>0</td>\n",
              "    </tr>\n",
              "    <tr>\n",
              "      <th>1</th>\n",
              "      <td>01:00:00:PM</td>\n",
              "      <td>606</td>\n",
              "      <td>121</td>\n",
              "      <td>1</td>\n",
              "    </tr>\n",
              "    <tr>\n",
              "      <th>2</th>\n",
              "      <td>01:01:00:PM</td>\n",
              "      <td>3</td>\n",
              "      <td>0</td>\n",
              "      <td>0</td>\n",
              "    </tr>\n",
              "    <tr>\n",
              "      <th>3</th>\n",
              "      <td>01:02:00:PM</td>\n",
              "      <td>2</td>\n",
              "      <td>0</td>\n",
              "      <td>0</td>\n",
              "    </tr>\n",
              "    <tr>\n",
              "      <th>4</th>\n",
              "      <td>01:03:00:PM</td>\n",
              "      <td>1</td>\n",
              "      <td>0</td>\n",
              "      <td>0</td>\n",
              "    </tr>\n",
              "    <tr>\n",
              "      <th>...</th>\n",
              "      <td>...</td>\n",
              "      <td>...</td>\n",
              "      <td>...</td>\n",
              "      <td>...</td>\n",
              "    </tr>\n",
              "    <tr>\n",
              "      <th>937</th>\n",
              "      <td>12:55:00:PM</td>\n",
              "      <td>26</td>\n",
              "      <td>7</td>\n",
              "      <td>0</td>\n",
              "    </tr>\n",
              "    <tr>\n",
              "      <th>938</th>\n",
              "      <td>12:56:00:PM</td>\n",
              "      <td>1</td>\n",
              "      <td>0</td>\n",
              "      <td>0</td>\n",
              "    </tr>\n",
              "    <tr>\n",
              "      <th>939</th>\n",
              "      <td>12:57:00:AM</td>\n",
              "      <td>1</td>\n",
              "      <td>1</td>\n",
              "      <td>1</td>\n",
              "    </tr>\n",
              "    <tr>\n",
              "      <th>940</th>\n",
              "      <td>12:58:00:PM</td>\n",
              "      <td>6</td>\n",
              "      <td>3</td>\n",
              "      <td>0</td>\n",
              "    </tr>\n",
              "    <tr>\n",
              "      <th>941</th>\n",
              "      <td>12:59:00:PM</td>\n",
              "      <td>1</td>\n",
              "      <td>0</td>\n",
              "      <td>0</td>\n",
              "    </tr>\n",
              "  </tbody>\n",
              "</table>\n",
              "<p>942 rows × 4 columns</p>\n",
              "</div>"
            ],
            "text/plain": [
              "    HORA_ACCIDENTE  CANTIDAD_ACCIDENTES  CANT_HERIDOS_EN _SITIO_ACCIDENTE  \\\n",
              "0      01:00:00:AM                   71                                30   \n",
              "1      01:00:00:PM                  606                               121   \n",
              "2      01:01:00:PM                    3                                 0   \n",
              "3      01:02:00:PM                    2                                 0   \n",
              "4      01:03:00:PM                    1                                 0   \n",
              "..             ...                  ...                               ...   \n",
              "937    12:55:00:PM                   26                                 7   \n",
              "938    12:56:00:PM                    1                                 0   \n",
              "939    12:57:00:AM                    1                                 1   \n",
              "940    12:58:00:PM                    6                                 3   \n",
              "941    12:59:00:PM                    1                                 0   \n",
              "\n",
              "     CANT_MUERTOS_EN _SITIO_ACCIDENTE  \n",
              "0                                   0  \n",
              "1                                   1  \n",
              "2                                   0  \n",
              "3                                   0  \n",
              "4                                   0  \n",
              "..                                ...  \n",
              "937                                 0  \n",
              "938                                 0  \n",
              "939                                 1  \n",
              "940                                 0  \n",
              "941                                 0  \n",
              "\n",
              "[942 rows x 4 columns]"
            ]
          },
          "execution_count": 7,
          "metadata": {},
          "output_type": "execute_result"
        }
      ],
      "source": [
        "df5 = df.copy()\n",
        "df5 = df5[[\"HORA_ACCIDENTE\",\"CANTIDAD_ACCIDENTES\",\"CANT_HERIDOS_EN _SITIO_ACCIDENTE\",\"CANT_MUERTOS_EN _SITIO_ACCIDENTE\"]]\n",
        "df5 = df5.groupby(\"HORA_ACCIDENTE\").sum().reset_index()\n",
        "df5"
      ]
    },
    {
      "cell_type": "code",
      "execution_count": 8,
      "id": "3758097a",
      "metadata": {
        "colab": {
          "base_uri": "https://localhost:8080/",
          "height": 542
        },
        "id": "3758097a",
        "outputId": "4744c10a-78a0-4e33-9b1f-12a8c7552c8c"
      },
      "outputs": [
        {
          "data": {
            "application/vnd.plotly.v1+json": {
              "config": {
                "plotlyServerURL": "https://plot.ly"
              },
              "data": [
                {
                  "alignmentgroup": "True",
                  "hovertemplate": "HORA_ACCIDENTE=%{x}<br>CANTIDAD_ACCIDENTES=%{y}<extra></extra>",
                  "legendgroup": "",
                  "marker": {
                    "color": "#636efa",
                    "pattern": {
                      "shape": ""
                    }
                  },
                  "name": "",
                  "offsetgroup": "",
                  "orientation": "v",
                  "showlegend": false,
                  "textposition": "auto",
                  "type": "bar",
                  "x": [
                    "01:00:00:AM",
                    "01:00:00:PM",
                    "01:01:00:PM",
                    "01:02:00:PM",
                    "01:03:00:PM",
                    "01:04:00:PM",
                    "01:05:00:AM",
                    "01:05:00:PM",
                    "01:06:00:PM",
                    "01:07:00:AM",
                    "01:07:00:PM",
                    "01:08:00:AM",
                    "01:08:00:PM",
                    "01:09:00:PM",
                    "01:10:00:AM",
                    "01:10:00:PM",
                    "01:11:00:PM",
                    "01:12:00:PM",
                    "01:13:00:AM",
                    "01:13:00:PM",
                    "01:14:00:PM",
                    "01:15:00:AM",
                    "01:15:00:PM",
                    "01:16:00:PM",
                    "01:17:00:PM",
                    "01:18:00:PM",
                    "01:19:00:PM",
                    "01:20:00:AM",
                    "01:20:00:PM",
                    "01:21:00:PM",
                    "01:25:00:AM",
                    "01:25:00:PM",
                    "01:26:00:PM",
                    "01:27:00:PM",
                    "01:28:00:PM",
                    "01:30:00:AM",
                    "01:30:00:PM",
                    "01:32:00:PM",
                    "01:33:00:PM",
                    "01:35:00:AM",
                    "01:35:00:PM",
                    "01:36:00:PM",
                    "01:37:00:PM",
                    "01:38:00:AM",
                    "01:38:00:PM",
                    "01:40:00:AM",
                    "01:40:00:PM",
                    "01:43:00:PM",
                    "01:44:00:PM",
                    "01:45:00:AM",
                    "01:45:00:PM",
                    "01:46:00:PM",
                    "01:47:00:PM",
                    "01:48:00:AM",
                    "01:48:00:PM",
                    "01:49:00:PM",
                    "01:50:00:AM",
                    "01:50:00:PM",
                    "01:52:00:PM",
                    "01:53:00:PM",
                    "01:54:00:AM",
                    "01:54:00:PM",
                    "01:55:00:AM",
                    "01:55:00:PM",
                    "01:56:00:PM",
                    "01:58:00:PM",
                    "01:59:00:AM",
                    "02:00:00:AM",
                    "02:00:00:PM",
                    "02:01:00:PM",
                    "02:02:00:PM",
                    "02:03:00:PM",
                    "02:04:00:PM",
                    "02:05:00:AM",
                    "02:05:00:PM",
                    "02:06:00:PM",
                    "02:07:00:PM",
                    "02:08:00:PM",
                    "02:09:00:AM",
                    "02:09:00:PM",
                    "02:10:00:AM",
                    "02:10:00:PM",
                    "02:12:00:PM",
                    "02:13:00:PM",
                    "02:14:00:PM",
                    "02:15:00:AM",
                    "02:15:00:PM",
                    "02:16:00:PM",
                    "02:17:00:PM",
                    "02:18:00:PM",
                    "02:19:00:PM",
                    "02:20:00:AM",
                    "02:20:00:PM",
                    "02:22:00:PM",
                    "02:23:00:PM",
                    "02:25:00:AM",
                    "02:25:00:PM",
                    "02:26:00:AM",
                    "02:26:00:PM",
                    "02:27:00:PM",
                    "02:28:00:PM",
                    "02:30:00:AM",
                    "02:30:00:PM",
                    "02:31:00:PM",
                    "02:32:00:PM",
                    "02:33:00:PM",
                    "02:35:00:AM",
                    "02:35:00:PM",
                    "02:36:00:PM",
                    "02:38:00:PM",
                    "02:39:00:PM",
                    "02:40:00:AM",
                    "02:40:00:PM",
                    "02:41:00:AM",
                    "02:41:00:PM",
                    "02:42:00:PM",
                    "02:43:00:PM",
                    "02:44:00:PM",
                    "02:45:00:AM",
                    "02:45:00:PM",
                    "02:46:00:PM",
                    "02:49:00:PM",
                    "02:50:00:AM",
                    "02:50:00:PM",
                    "02:52:00:PM",
                    "02:53:00:PM",
                    "02:55:00:AM",
                    "02:55:00:PM",
                    "02:56:00:AM",
                    "02:56:00:PM",
                    "02:57:00:AM",
                    "02:57:00:PM",
                    "02:58:00:AM",
                    "02:58:00:PM",
                    "02:59:00:PM",
                    "03:00:00:AM",
                    "03:00:00:PM",
                    "03:01:00:PM",
                    "03:02:00:PM",
                    "03:03:00:PM",
                    "03:04:00:PM",
                    "03:05:00:AM",
                    "03:05:00:PM",
                    "03:06:00:PM",
                    "03:07:00:PM",
                    "03:08:00:PM",
                    "03:09:00:PM",
                    "03:10:00:AM",
                    "03:10:00:PM",
                    "03:12:00:PM",
                    "03:13:00:PM",
                    "03:14:00:AM",
                    "03:14:00:PM",
                    "03:15:00:AM",
                    "03:15:00:PM",
                    "03:16:00:PM",
                    "03:17:00:PM",
                    "03:18:00:PM",
                    "03:19:00:PM",
                    "03:20:00:AM",
                    "03:20:00:PM",
                    "03:21:00:AM",
                    "03:22:00:PM",
                    "03:23:00:PM",
                    "03:24:00:AM",
                    "03:25:00:AM",
                    "03:25:00:PM",
                    "03:26:00:PM",
                    "03:27:00:PM",
                    "03:28:00:PM",
                    "03:29:00:PM",
                    "03:30:00:AM",
                    "03:30:00:PM",
                    "03:32:00:PM",
                    "03:33:00:PM",
                    "03:35:00:AM",
                    "03:35:00:PM",
                    "03:36:00:PM",
                    "03:37:00:PM",
                    "03:39:00:PM",
                    "03:40:00:AM",
                    "03:40:00:PM",
                    "03:41:00:PM",
                    "03:42:00:PM",
                    "03:43:00:AM",
                    "03:43:00:PM",
                    "03:44:00:PM",
                    "03:45:00:AM",
                    "03:45:00:PM",
                    "03:46:00:PM",
                    "03:47:00:PM",
                    "03:48:00:AM",
                    "03:48:00:PM",
                    "03:49:00:PM",
                    "03:50:00:AM",
                    "03:50:00:PM",
                    "03:51:00:PM",
                    "03:52:00:PM",
                    "03:53:00:PM",
                    "03:54:00:PM",
                    "03:55:00:AM",
                    "03:55:00:PM",
                    "03:56:00:PM",
                    "03:57:00:PM",
                    "03:58:00:PM",
                    "03:59:00:PM",
                    "04:00:00:AM",
                    "04:00:00:PM",
                    "04:01:00:PM",
                    "04:02:00:PM",
                    "04:03:00:PM",
                    "04:04:00:PM",
                    "04:05:00:AM",
                    "04:05:00:PM",
                    "04:07:00:PM",
                    "04:08:00:AM",
                    "04:08:00:PM",
                    "04:09:00:PM",
                    "04:10:00:AM",
                    "04:10:00:PM",
                    "04:11:00:PM",
                    "04:12:00:PM",
                    "04:13:00:PM",
                    "04:14:00:AM",
                    "04:14:00:PM",
                    "04:15:00:AM",
                    "04:15:00:PM",
                    "04:16:00:PM",
                    "04:17:00:PM",
                    "04:18:00:PM",
                    "04:19:00:AM",
                    "04:19:00:PM",
                    "04:20:00:AM",
                    "04:20:00:PM",
                    "04:21:00:PM",
                    "04:22:00:AM",
                    "04:23:00:PM",
                    "04:25:00:AM",
                    "04:25:00:PM",
                    "04:26:00:PM",
                    "04:27:00:AM",
                    "04:27:00:PM",
                    "04:28:00:PM",
                    "04:30:00:AM",
                    "04:30:00:PM",
                    "04:31:00:PM",
                    "04:33:00:PM",
                    "04:35:00:AM",
                    "04:35:00:PM",
                    "04:36:00:PM",
                    "04:37:00:AM",
                    "04:37:00:PM",
                    "04:38:00:PM",
                    "04:39:00:PM",
                    "04:40:00:AM",
                    "04:40:00:PM",
                    "04:41:00:PM",
                    "04:42:00:PM",
                    "04:43:00:PM",
                    "04:44:00:PM",
                    "04:45:00:AM",
                    "04:45:00:PM",
                    "04:46:00:PM",
                    "04:47:00:PM",
                    "04:48:00:PM",
                    "04:49:00:PM",
                    "04:50:00:AM",
                    "04:50:00:PM",
                    "04:51:00:PM",
                    "04:54:00:PM",
                    "04:55:00:AM",
                    "04:55:00:PM",
                    "04:56:00:PM",
                    "04:58:00:AM",
                    "04:58:00:PM",
                    "04:59:00:PM",
                    "05:00:00:AM",
                    "05:00:00:PM",
                    "05:01:00:PM",
                    "05:03:00:AM",
                    "05:03:00:PM",
                    "05:04:00:PM",
                    "05:05:00:AM",
                    "05:05:00:PM",
                    "05:06:00:AM",
                    "05:06:00:PM",
                    "05:07:00:AM",
                    "05:07:00:PM",
                    "05:08:00:PM",
                    "05:09:00:PM",
                    "05:10:00:AM",
                    "05:10:00:PM",
                    "05:11:00:PM",
                    "05:13:00:PM",
                    "05:14:00:PM",
                    "05:15:00:AM",
                    "05:15:00:PM",
                    "05:17:00:PM",
                    "05:19:00:PM",
                    "05:20:00:AM",
                    "05:20:00:PM",
                    "05:21:00:AM",
                    "05:21:00:PM",
                    "05:22:00:PM",
                    "05:23:00:PM",
                    "05:24:00:PM",
                    "05:25:00:AM",
                    "05:25:00:PM",
                    "05:26:00:PM",
                    "05:27:00:AM",
                    "05:27:00:PM",
                    "05:28:00:PM",
                    "05:29:00:PM",
                    "05:30:00:AM",
                    "05:30:00:PM",
                    "05:32:00:PM",
                    "05:33:00:PM",
                    "05:34:00:PM",
                    "05:35:00:AM",
                    "05:35:00:PM",
                    "05:36:00:AM",
                    "05:36:00:PM",
                    "05:38:00:PM",
                    "05:39:00:PM",
                    "05:40:00:AM",
                    "05:40:00:PM",
                    "05:41:00:PM",
                    "05:44:00:PM",
                    "05:45:00:AM",
                    "05:45:00:PM",
                    "05:46:00:PM",
                    "05:47:00:PM",
                    "05:48:00:AM",
                    "05:48:00:PM",
                    "05:49:00:AM",
                    "05:49:00:PM",
                    "05:50:00:AM",
                    "05:50:00:PM",
                    "05:51:00:PM",
                    "05:52:00:PM",
                    "05:53:00:PM",
                    "05:54:00:AM",
                    "05:54:00:PM",
                    "05:55:00:AM",
                    "05:55:00:PM",
                    "05:56:00:AM",
                    "05:56:00:PM",
                    "05:57:00:PM",
                    "05:58:00:PM",
                    "06:00:00:AM",
                    "06:00:00:PM",
                    "06:01:00:AM",
                    "06:01:00:PM",
                    "06:02:00:AM",
                    "06:02:00:PM",
                    "06:03:00:AM",
                    "06:03:00:PM",
                    "06:04:00:AM",
                    "06:04:00:PM",
                    "06:05:00:AM",
                    "06:05:00:PM",
                    "06:06:00:AM",
                    "06:06:00:PM",
                    "06:07:00:AM",
                    "06:07:00:PM",
                    "06:09:00:AM",
                    "06:10:00:AM",
                    "06:10:00:PM",
                    "06:11:00:AM",
                    "06:11:00:PM",
                    "06:12:00:PM",
                    "06:13:00:PM",
                    "06:14:00:AM",
                    "06:14:00:PM",
                    "06:15:00:AM",
                    "06:15:00:PM",
                    "06:16:00:AM",
                    "06:17:00:AM",
                    "06:17:00:PM",
                    "06:20:00:AM",
                    "06:20:00:PM",
                    "06:21:00:PM",
                    "06:22:00:PM",
                    "06:24:00:PM",
                    "06:25:00:AM",
                    "06:25:00:PM",
                    "06:26:00:AM",
                    "06:26:00:PM",
                    "06:27:00:AM",
                    "06:27:00:PM",
                    "06:28:00:AM",
                    "06:28:00:PM",
                    "06:30:00:AM",
                    "06:30:00:PM",
                    "06:31:00:PM",
                    "06:32:00:AM",
                    "06:32:00:PM",
                    "06:33:00:PM",
                    "06:34:00:AM",
                    "06:34:00:PM",
                    "06:35:00:AM",
                    "06:35:00:PM",
                    "06:36:00:AM",
                    "06:36:00:PM",
                    "06:38:00:PM",
                    "06:39:00:AM",
                    "06:39:00:PM",
                    "06:40:00:AM",
                    "06:40:00:PM",
                    "06:41:00:PM",
                    "06:42:00:AM",
                    "06:42:00:PM",
                    "06:43:00:PM",
                    "06:44:00:PM",
                    "06:45:00:AM",
                    "06:45:00:PM",
                    "06:46:00:AM",
                    "06:46:00:PM",
                    "06:47:00:AM",
                    "06:48:00:AM",
                    "06:49:00:AM",
                    "06:49:00:PM",
                    "06:50:00:AM",
                    "06:50:00:PM",
                    "06:51:00:AM",
                    "06:52:00:PM",
                    "06:53:00:AM",
                    "06:54:00:PM",
                    "06:55:00:AM",
                    "06:55:00:PM",
                    "06:56:00:AM",
                    "06:56:00:PM",
                    "06:57:00:PM",
                    "06:58:00:PM",
                    "06:59:00:AM",
                    "06:59:00:PM",
                    "07:00:00:AM",
                    "07:00:00:PM",
                    "07:01:00:AM",
                    "07:01:00:PM",
                    "07:02:00:AM",
                    "07:02:00:PM",
                    "07:04:00:AM",
                    "07:04:00:PM",
                    "07:05:00:AM",
                    "07:05:00:PM",
                    "07:06:00:PM",
                    "07:07:00:AM",
                    "07:07:00:PM",
                    "07:08:00:AM",
                    "07:08:00:PM",
                    "07:09:00:AM",
                    "07:09:00:PM",
                    "07:10:00:AM",
                    "07:10:00:PM",
                    "07:11:00:AM",
                    "07:11:00:PM",
                    "07:12:00:AM",
                    "07:12:00:PM",
                    "07:13:00:AM",
                    "07:13:00:PM",
                    "07:14:00:AM",
                    "07:14:00:PM",
                    "07:15:00:AM",
                    "07:15:00:PM",
                    "07:16:00:AM",
                    "07:16:00:PM",
                    "07:17:00:AM",
                    "07:17:00:PM",
                    "07:18:00:AM",
                    "07:18:00:PM",
                    "07:19:00:PM",
                    "07:20:00:AM",
                    "07:20:00:PM",
                    "07:21:00:AM",
                    "07:21:00:PM",
                    "07:22:00:AM",
                    "07:22:00:PM",
                    "07:23:00:PM",
                    "07:24:00:AM",
                    "07:25:00:AM",
                    "07:25:00:PM",
                    "07:26:00:AM",
                    "07:26:00:PM",
                    "07:27:00:AM",
                    "07:27:00:PM",
                    "07:28:00:AM",
                    "07:28:00:PM",
                    "07:29:00:AM",
                    "07:29:00:PM",
                    "07:30:00:AM",
                    "07:30:00:PM",
                    "07:31:00:AM",
                    "07:32:00:AM",
                    "07:33:00:AM",
                    "07:33:00:PM",
                    "07:35:00:AM",
                    "07:35:00:PM",
                    "07:36:00:AM",
                    "07:36:00:PM",
                    "07:37:00:AM",
                    "07:37:00:PM",
                    "07:38:00:AM",
                    "07:38:00:PM",
                    "07:40:00:AM",
                    "07:40:00:PM",
                    "07:42:00:AM",
                    "07:42:00:PM",
                    "07:43:00:AM",
                    "07:44:00:PM",
                    "07:45:00:AM",
                    "07:45:00:PM",
                    "07:46:00:AM",
                    "07:47:00:AM",
                    "07:47:00:PM",
                    "07:48:00:AM",
                    "07:49:00:AM",
                    "07:50:00:AM",
                    "07:50:00:PM",
                    "07:52:00:AM",
                    "07:52:00:PM",
                    "07:54:00:AM",
                    "07:55:00:AM",
                    "07:55:00:PM",
                    "07:56:00:AM",
                    "07:56:00:PM",
                    "07:57:00:AM",
                    "07:57:00:PM",
                    "07:58:00:AM",
                    "07:59:00:AM",
                    "07:59:00:PM",
                    "08:00:00:AM",
                    "08:00:00:PM",
                    "08:01:00:AM",
                    "08:01:00:PM",
                    "08:02:00:AM",
                    "08:02:00:PM",
                    "08:03:00:AM",
                    "08:03:00:PM",
                    "08:05:00:AM",
                    "08:05:00:PM",
                    "08:06:00:AM",
                    "08:06:00:PM",
                    "08:07:00:AM",
                    "08:08:00:AM",
                    "08:09:00:AM",
                    "08:09:00:PM",
                    "08:10:00:AM",
                    "08:10:00:PM",
                    "08:11:00:AM",
                    "08:11:00:PM",
                    "08:12:00:AM",
                    "08:12:00:PM",
                    "08:13:00:AM",
                    "08:13:00:PM",
                    "08:14:00:AM",
                    "08:14:00:PM",
                    "08:15:00:AM",
                    "08:15:00:PM",
                    "08:16:00:AM",
                    "08:16:00:PM",
                    "08:17:00:AM",
                    "08:18:00:AM",
                    "08:18:00:PM",
                    "08:19:00:AM",
                    "08:19:00:PM",
                    "08:20:00:AM",
                    "08:20:00:PM",
                    "08:21:00:AM",
                    "08:23:00:AM",
                    "08:24:00:AM",
                    "08:24:00:PM",
                    "08:25:00:AM",
                    "08:25:00:PM",
                    "08:26:00:AM",
                    "08:27:00:AM",
                    "08:27:00:PM",
                    "08:28:00:AM",
                    "08:30:00:AM",
                    "08:30:00:PM",
                    "08:31:00:AM",
                    "08:32:00:PM",
                    "08:33:00:AM",
                    "08:33:00:PM",
                    "08:35:00:AM",
                    "08:35:00:PM",
                    "08:36:00:AM",
                    "08:37:00:AM",
                    "08:38:00:AM",
                    "08:38:00:PM",
                    "08:39:00:AM",
                    "08:39:00:PM",
                    "08:40:00:AM",
                    "08:40:00:PM",
                    "08:41:00:PM",
                    "08:42:00:AM",
                    "08:43:00:AM",
                    "08:43:00:PM",
                    "08:44:00:PM",
                    "08:45:00:AM",
                    "08:45:00:PM",
                    "08:46:00:AM",
                    "08:46:00:PM",
                    "08:47:00:PM",
                    "08:48:00:AM",
                    "08:48:00:PM",
                    "08:50:00:AM",
                    "08:50:00:PM",
                    "08:51:00:AM",
                    "08:51:00:PM",
                    "08:53:00:PM",
                    "08:55:00:AM",
                    "08:55:00:PM",
                    "08:56:00:PM",
                    "08:57:00:PM",
                    "08:58:00:PM",
                    "09:00:00:AM",
                    "09:00:00:PM",
                    "09:01:00:AM",
                    "09:02:00:AM",
                    "09:02:00:PM",
                    "09:03:00:PM",
                    "09:04:00:AM",
                    "09:05:00:AM",
                    "09:05:00:PM",
                    "09:06:00:AM",
                    "09:06:00:PM",
                    "09:07:00:AM",
                    "09:09:00:AM",
                    "09:10:00:AM",
                    "09:10:00:PM",
                    "09:11:00:AM",
                    "09:11:00:PM",
                    "09:12:00:AM",
                    "09:12:00:PM",
                    "09:14:00:AM",
                    "09:14:00:PM",
                    "09:15:00:AM",
                    "09:15:00:PM",
                    "09:16:00:AM",
                    "09:16:00:PM",
                    "09:18:00:AM",
                    "09:18:00:PM",
                    "09:19:00:AM",
                    "09:20:00:AM",
                    "09:20:00:PM",
                    "09:21:00:AM",
                    "09:21:00:PM",
                    "09:23:00:AM",
                    "09:23:00:PM",
                    "09:24:00:PM",
                    "09:25:00:AM",
                    "09:25:00:PM",
                    "09:26:00:PM",
                    "09:27:00:AM",
                    "09:27:00:PM",
                    "09:29:00:AM",
                    "09:30:00:AM",
                    "09:30:00:PM",
                    "09:32:00:PM",
                    "09:33:00:AM",
                    "09:34:00:AM",
                    "09:34:00:PM",
                    "09:35:00:AM",
                    "09:35:00:PM",
                    "09:36:00:AM",
                    "09:36:00:PM",
                    "09:37:00:AM",
                    "09:37:00:PM",
                    "09:38:00:AM",
                    "09:38:00:PM",
                    "09:39:00:AM",
                    "09:40:00:AM",
                    "09:40:00:PM",
                    "09:41:00:AM",
                    "09:42:00:AM",
                    "09:43:00:PM",
                    "09:44:00:AM",
                    "09:45:00:AM",
                    "09:45:00:PM",
                    "09:46:00:AM",
                    "09:46:00:PM",
                    "09:47:00:AM",
                    "09:48:00:AM",
                    "09:48:00:PM",
                    "09:49:00:AM",
                    "09:49:00:PM",
                    "09:50:00:AM",
                    "09:50:00:PM",
                    "09:51:00:AM",
                    "09:52:00:AM",
                    "09:52:00:PM",
                    "09:53:00:AM",
                    "09:54:00:AM",
                    "09:55:00:AM",
                    "09:55:00:PM",
                    "09:56:00:AM",
                    "09:57:00:AM",
                    "09:58:00:AM",
                    "09:59:00:AM",
                    "09:59:00:PM",
                    "10:00:00:AM",
                    "10:00:00:PM",
                    "10:03:00:PM",
                    "10:04:00:AM",
                    "10:04:00:PM",
                    "10:05:00:AM",
                    "10:05:00:PM",
                    "10:06:00:AM",
                    "10:07:00:AM",
                    "10:08:00:AM",
                    "10:10:00:AM",
                    "10:10:00:PM",
                    "10:11:00:AM",
                    "10:11:00:PM",
                    "10:12:00:AM",
                    "10:12:00:PM",
                    "10:13:00:AM",
                    "10:14:00:AM",
                    "10:14:00:PM",
                    "10:15:00:AM",
                    "10:15:00:PM",
                    "10:16:00:AM",
                    "10:16:00:PM",
                    "10:17:00:AM",
                    "10:17:00:PM",
                    "10:18:00:AM",
                    "10:18:00:PM",
                    "10:19:00:AM",
                    "10:19:00:PM",
                    "10:20:00:AM",
                    "10:20:00:PM",
                    "10:22:00:AM",
                    "10:22:00:PM",
                    "10:23:00:AM",
                    "10:24:00:AM",
                    "10:25:00:AM",
                    "10:25:00:PM",
                    "10:26:00:AM",
                    "10:27:00:AM",
                    "10:27:00:PM",
                    "10:28:00:AM",
                    "10:29:00:AM",
                    "10:30:00:AM",
                    "10:30:00:PM",
                    "10:31:00:AM",
                    "10:32:00:AM",
                    "10:33:00:PM",
                    "10:34:00:AM",
                    "10:35:00:AM",
                    "10:35:00:PM",
                    "10:36:00:AM",
                    "10:36:00:PM",
                    "10:37:00:AM",
                    "10:37:00:PM",
                    "10:38:00:AM",
                    "10:39:00:AM",
                    "10:40:00:AM",
                    "10:40:00:PM",
                    "10:41:00:AM",
                    "10:42:00:AM",
                    "10:42:00:PM",
                    "10:43:00:AM",
                    "10:43:00:PM",
                    "10:44:00:PM",
                    "10:45:00:AM",
                    "10:45:00:PM",
                    "10:46:00:AM",
                    "10:46:00:PM",
                    "10:47:00:AM",
                    "10:47:00:PM",
                    "10:48:00:AM",
                    "10:49:00:AM",
                    "10:50:00:AM",
                    "10:50:00:PM",
                    "10:51:00:AM",
                    "10:51:00:PM",
                    "10:52:00:AM",
                    "10:52:00:PM",
                    "10:53:00:AM",
                    "10:53:00:PM",
                    "10:54:00:AM",
                    "10:55:00:AM",
                    "10:55:00:PM",
                    "10:56:00:AM",
                    "10:56:00:PM",
                    "10:57:00:PM",
                    "10:58:00:AM",
                    "10:58:00:PM",
                    "10:59:00:AM",
                    "10:59:00:PM",
                    "11:00:00:AM",
                    "11:00:00:PM",
                    "11:01:00:AM",
                    "11:03:00:AM",
                    "11:03:00:PM",
                    "11:04:00:AM",
                    "11:05:00:AM",
                    "11:05:00:PM",
                    "11:06:00:AM",
                    "11:07:00:PM",
                    "11:08:00:AM",
                    "11:08:00:PM",
                    "11:10:00:AM",
                    "11:10:00:PM",
                    "11:11:00:AM",
                    "11:12:00:AM",
                    "11:13:00:AM",
                    "11:13:00:PM",
                    "11:14:00:AM",
                    "11:15:00:AM",
                    "11:15:00:PM",
                    "11:16:00:AM",
                    "11:17:00:PM",
                    "11:18:00:AM",
                    "11:18:00:PM",
                    "11:19:00:AM",
                    "11:19:00:PM",
                    "11:20:00:AM",
                    "11:20:00:PM",
                    "11:22:00:AM",
                    "11:22:00:PM",
                    "11:24:00:AM",
                    "11:25:00:AM",
                    "11:25:00:PM",
                    "11:27:00:AM",
                    "11:28:00:AM",
                    "11:29:00:AM",
                    "11:30:00:AM",
                    "11:30:00:PM",
                    "11:31:00:AM",
                    "11:32:00:AM",
                    "11:33:00:AM",
                    "11:34:00:AM",
                    "11:35:00:AM",
                    "11:35:00:PM",
                    "11:36:00:AM",
                    "11:36:00:PM",
                    "11:37:00:AM",
                    "11:38:00:AM",
                    "11:39:00:AM",
                    "11:40:00:AM",
                    "11:40:00:PM",
                    "11:43:00:AM",
                    "11:44:00:AM",
                    "11:45:00:AM",
                    "11:45:00:PM",
                    "11:46:00:AM",
                    "11:47:00:AM",
                    "11:48:00:AM",
                    "11:49:00:AM",
                    "11:50:00:AM",
                    "11:50:00:PM",
                    "11:52:00:AM",
                    "11:52:00:PM",
                    "11:53:00:AM",
                    "11:54:00:AM",
                    "11:54:00:PM",
                    "11:55:00:AM",
                    "11:55:00:PM",
                    "11:56:00:AM",
                    "11:57:00:AM",
                    "11:58:00:AM",
                    "11:58:00:PM",
                    "11:59:00:AM",
                    "12:00:00:AM",
                    "12:00:00:PM",
                    "12:01:00:AM",
                    "12:01:00:PM",
                    "12:02:00:AM",
                    "12:02:00:PM",
                    "12:03:00:PM",
                    "12:04:00:PM",
                    "12:05:00:AM",
                    "12:05:00:PM",
                    "12:06:00:PM",
                    "12:07:00:AM",
                    "12:07:00:PM",
                    "12:08:00:PM",
                    "12:09:00:PM",
                    "12:10:00:AM",
                    "12:10:00:PM",
                    "12:11:00:PM",
                    "12:12:00:PM",
                    "12:13:00:PM",
                    "12:14:00:PM",
                    "12:15:00:AM",
                    "12:15:00:PM",
                    "12:17:00:AM",
                    "12:18:00:PM",
                    "12:19:00:PM",
                    "12:20:00:AM",
                    "12:20:00:PM",
                    "12:21:00:PM",
                    "12:22:00:PM",
                    "12:23:00:PM",
                    "12:24:00:PM",
                    "12:25:00:AM",
                    "12:25:00:PM",
                    "12:26:00:AM",
                    "12:26:00:PM",
                    "12:27:00:PM",
                    "12:28:00:AM",
                    "12:28:00:PM",
                    "12:30:00:AM",
                    "12:30:00:PM",
                    "12:31:00:PM",
                    "12:32:00:PM",
                    "12:33:00:PM",
                    "12:35:00:AM",
                    "12:35:00:PM",
                    "12:36:00:PM",
                    "12:37:00:AM",
                    "12:37:00:PM",
                    "12:38:00:PM",
                    "12:40:00:AM",
                    "12:40:00:PM",
                    "12:41:00:PM",
                    "12:42:00:AM",
                    "12:42:00:PM",
                    "12:43:00:PM",
                    "12:44:00:PM",
                    "12:45:00:AM",
                    "12:45:00:PM",
                    "12:46:00:AM",
                    "12:46:00:PM",
                    "12:47:00:PM",
                    "12:48:00:PM",
                    "12:49:00:PM",
                    "12:50:00:AM",
                    "12:50:00:PM",
                    "12:51:00:AM",
                    "12:51:00:PM",
                    "12:52:00:PM",
                    "12:53:00:PM",
                    "12:54:00:PM",
                    "12:55:00:AM",
                    "12:55:00:PM",
                    "12:56:00:PM",
                    "12:57:00:AM",
                    "12:58:00:PM",
                    "12:59:00:PM"
                  ],
                  "xaxis": "x",
                  "y": [
                    71,
                    606,
                    3,
                    2,
                    1,
                    1,
                    5,
                    44,
                    2,
                    1,
                    4,
                    2,
                    2,
                    1,
                    17,
                    245,
                    1,
                    2,
                    2,
                    4,
                    5,
                    14,
                    97,
                    5,
                    1,
                    3,
                    1,
                    27,
                    229,
                    1,
                    4,
                    27,
                    3,
                    4,
                    1,
                    58,
                    473,
                    1,
                    3,
                    4,
                    30,
                    5,
                    2,
                    1,
                    1,
                    25,
                    240,
                    1,
                    1,
                    15,
                    95,
                    3,
                    1,
                    2,
                    1,
                    3,
                    20,
                    224,
                    1,
                    1,
                    1,
                    1,
                    2,
                    24,
                    1,
                    3,
                    1,
                    61,
                    587,
                    4,
                    1,
                    4,
                    1,
                    3,
                    42,
                    1,
                    4,
                    2,
                    2,
                    1,
                    22,
                    234,
                    2,
                    2,
                    1,
                    7,
                    101,
                    1,
                    2,
                    2,
                    3,
                    22,
                    287,
                    1,
                    3,
                    3,
                    24,
                    1,
                    1,
                    4,
                    4,
                    35,
                    476,
                    2,
                    2,
                    2,
                    2,
                    16,
                    5,
                    2,
                    1,
                    20,
                    178,
                    1,
                    3,
                    2,
                    1,
                    2,
                    5,
                    98,
                    4,
                    1,
                    16,
                    227,
                    1,
                    2,
                    1,
                    23,
                    1,
                    4,
                    1,
                    2,
                    1,
                    1,
                    2,
                    60,
                    640,
                    2,
                    1,
                    3,
                    1,
                    3,
                    37,
                    3,
                    6,
                    1,
                    1,
                    21,
                    243,
                    2,
                    3,
                    1,
                    1,
                    10,
                    105,
                    1,
                    2,
                    3,
                    1,
                    24,
                    278,
                    1,
                    1,
                    4,
                    1,
                    1,
                    29,
                    2,
                    3,
                    1,
                    2,
                    36,
                    558,
                    2,
                    3,
                    1,
                    26,
                    3,
                    3,
                    2,
                    24,
                    237,
                    1,
                    1,
                    1,
                    4,
                    1,
                    12,
                    94,
                    2,
                    1,
                    1,
                    1,
                    3,
                    20,
                    198,
                    3,
                    3,
                    2,
                    4,
                    5,
                    19,
                    2,
                    2,
                    5,
                    4,
                    57,
                    682,
                    3,
                    3,
                    2,
                    3,
                    8,
                    50,
                    2,
                    1,
                    4,
                    4,
                    24,
                    215,
                    3,
                    2,
                    1,
                    1,
                    4,
                    16,
                    78,
                    2,
                    2,
                    1,
                    1,
                    2,
                    20,
                    260,
                    1,
                    1,
                    1,
                    2,
                    24,
                    6,
                    1,
                    3,
                    3,
                    61,
                    514,
                    2,
                    4,
                    3,
                    31,
                    1,
                    1,
                    2,
                    4,
                    1,
                    24,
                    269,
                    2,
                    1,
                    2,
                    3,
                    9,
                    105,
                    3,
                    2,
                    5,
                    1,
                    25,
                    242,
                    1,
                    4,
                    3,
                    12,
                    3,
                    1,
                    1,
                    1,
                    58,
                    661,
                    1,
                    1,
                    1,
                    4,
                    9,
                    45,
                    1,
                    1,
                    1,
                    1,
                    2,
                    3,
                    32,
                    223,
                    1,
                    3,
                    2,
                    21,
                    131,
                    1,
                    2,
                    33,
                    279,
                    1,
                    1,
                    1,
                    1,
                    2,
                    8,
                    28,
                    3,
                    1,
                    2,
                    3,
                    2,
                    72,
                    509,
                    4,
                    1,
                    1,
                    3,
                    43,
                    1,
                    1,
                    1,
                    1,
                    46,
                    230,
                    1,
                    2,
                    25,
                    96,
                    2,
                    4,
                    3,
                    5,
                    1,
                    1,
                    48,
                    230,
                    3,
                    1,
                    2,
                    1,
                    1,
                    10,
                    26,
                    1,
                    2,
                    1,
                    2,
                    101,
                    485,
                    1,
                    1,
                    3,
                    1,
                    2,
                    2,
                    1,
                    2,
                    15,
                    45,
                    1,
                    1,
                    1,
                    4,
                    1,
                    67,
                    243,
                    1,
                    1,
                    2,
                    3,
                    2,
                    4,
                    48,
                    95,
                    1,
                    1,
                    4,
                    107,
                    229,
                    1,
                    2,
                    1,
                    13,
                    32,
                    3,
                    1,
                    1,
                    1,
                    1,
                    1,
                    221,
                    472,
                    1,
                    1,
                    5,
                    3,
                    1,
                    4,
                    17,
                    31,
                    1,
                    2,
                    3,
                    2,
                    2,
                    156,
                    245,
                    1,
                    2,
                    2,
                    1,
                    1,
                    82,
                    95,
                    1,
                    2,
                    5,
                    4,
                    1,
                    1,
                    197,
                    200,
                    1,
                    4,
                    1,
                    1,
                    14,
                    21,
                    1,
                    1,
                    1,
                    3,
                    1,
                    2,
                    433,
                    515,
                    2,
                    1,
                    2,
                    4,
                    1,
                    1,
                    53,
                    41,
                    3,
                    1,
                    3,
                    2,
                    2,
                    1,
                    1,
                    223,
                    181,
                    3,
                    2,
                    3,
                    1,
                    1,
                    3,
                    2,
                    5,
                    121,
                    73,
                    3,
                    1,
                    3,
                    1,
                    4,
                    1,
                    1,
                    240,
                    223,
                    1,
                    1,
                    1,
                    2,
                    1,
                    1,
                    39,
                    27,
                    1,
                    1,
                    2,
                    4,
                    3,
                    1,
                    1,
                    1,
                    476,
                    412,
                    1,
                    1,
                    1,
                    3,
                    38,
                    32,
                    2,
                    1,
                    1,
                    2,
                    3,
                    2,
                    246,
                    195,
                    2,
                    1,
                    3,
                    2,
                    111,
                    63,
                    1,
                    4,
                    3,
                    2,
                    2,
                    262,
                    129,
                    3,
                    2,
                    3,
                    31,
                    12,
                    4,
                    2,
                    1,
                    1,
                    1,
                    3,
                    1,
                    639,
                    358,
                    2,
                    1,
                    3,
                    2,
                    4,
                    1,
                    46,
                    37,
                    1,
                    2,
                    1,
                    1,
                    1,
                    2,
                    215,
                    159,
                    1,
                    1,
                    5,
                    1,
                    2,
                    2,
                    2,
                    4,
                    110,
                    66,
                    1,
                    1,
                    2,
                    2,
                    5,
                    1,
                    1,
                    251,
                    131,
                    3,
                    1,
                    2,
                    1,
                    28,
                    18,
                    3,
                    3,
                    1,
                    1,
                    488,
                    324,
                    1,
                    2,
                    4,
                    2,
                    23,
                    12,
                    2,
                    1,
                    2,
                    5,
                    1,
                    2,
                    218,
                    116,
                    2,
                    1,
                    2,
                    2,
                    2,
                    87,
                    55,
                    4,
                    1,
                    1,
                    4,
                    3,
                    182,
                    78,
                    2,
                    2,
                    1,
                    16,
                    13,
                    1,
                    1,
                    1,
                    496,
                    237,
                    1,
                    2,
                    2,
                    1,
                    2,
                    38,
                    18,
                    5,
                    2,
                    1,
                    2,
                    193,
                    99,
                    3,
                    1,
                    2,
                    2,
                    2,
                    6,
                    103,
                    56,
                    2,
                    1,
                    2,
                    2,
                    3,
                    211,
                    82,
                    1,
                    2,
                    3,
                    1,
                    1,
                    30,
                    11,
                    1,
                    2,
                    1,
                    1,
                    423,
                    230,
                    2,
                    1,
                    3,
                    1,
                    18,
                    8,
                    4,
                    2,
                    3,
                    2,
                    1,
                    4,
                    1,
                    215,
                    119,
                    1,
                    1,
                    1,
                    1,
                    78,
                    43,
                    4,
                    1,
                    1,
                    2,
                    2,
                    1,
                    1,
                    207,
                    66,
                    1,
                    2,
                    1,
                    1,
                    3,
                    22,
                    9,
                    1,
                    2,
                    1,
                    1,
                    1,
                    544,
                    191,
                    3,
                    3,
                    1,
                    47,
                    22,
                    3,
                    1,
                    1,
                    189,
                    71,
                    3,
                    2,
                    1,
                    1,
                    2,
                    2,
                    2,
                    105,
                    37,
                    2,
                    2,
                    1,
                    1,
                    2,
                    1,
                    1,
                    1,
                    235,
                    61,
                    1,
                    2,
                    3,
                    1,
                    21,
                    4,
                    3,
                    1,
                    2,
                    4,
                    1,
                    427,
                    153,
                    2,
                    1,
                    2,
                    4,
                    21,
                    5,
                    2,
                    2,
                    3,
                    2,
                    3,
                    1,
                    238,
                    60,
                    1,
                    5,
                    1,
                    2,
                    1,
                    1,
                    85,
                    27,
                    4,
                    1,
                    1,
                    1,
                    2,
                    2,
                    203,
                    68,
                    1,
                    1,
                    1,
                    1,
                    2,
                    1,
                    1,
                    25,
                    8,
                    4,
                    1,
                    1,
                    2,
                    1,
                    1,
                    2,
                    530,
                    136,
                    2,
                    2,
                    1,
                    2,
                    38,
                    20,
                    4,
                    1,
                    2,
                    2,
                    189,
                    67,
                    1,
                    1,
                    1,
                    1,
                    2,
                    96,
                    28,
                    1,
                    2,
                    3,
                    1,
                    3,
                    1,
                    246,
                    51,
                    1,
                    1,
                    1,
                    26,
                    6,
                    2,
                    4,
                    3,
                    452,
                    94,
                    4,
                    1,
                    3,
                    2,
                    38,
                    10,
                    1,
                    1,
                    2,
                    4,
                    3,
                    236,
                    65,
                    2,
                    1,
                    81,
                    24,
                    2,
                    1,
                    1,
                    1,
                    192,
                    34,
                    2,
                    1,
                    1,
                    1,
                    1,
                    29,
                    2,
                    1,
                    1,
                    3,
                    1,
                    1,
                    65,
                    583,
                    2,
                    9,
                    1,
                    2,
                    5,
                    1,
                    22,
                    57,
                    3,
                    1,
                    1,
                    4,
                    2,
                    53,
                    288,
                    1,
                    1,
                    3,
                    1,
                    25,
                    118,
                    4,
                    2,
                    2,
                    43,
                    264,
                    2,
                    1,
                    3,
                    3,
                    3,
                    24,
                    1,
                    3,
                    2,
                    1,
                    5,
                    69,
                    607,
                    3,
                    1,
                    2,
                    3,
                    37,
                    3,
                    1,
                    3,
                    3,
                    19,
                    318,
                    3,
                    1,
                    4,
                    5,
                    1,
                    12,
                    128,
                    1,
                    1,
                    2,
                    4,
                    2,
                    15,
                    205,
                    1,
                    1,
                    2,
                    4,
                    1,
                    2,
                    26,
                    1,
                    1,
                    6,
                    1
                  ],
                  "yaxis": "y"
                }
              ],
              "layout": {
                "barmode": "relative",
                "legend": {
                  "tracegroupgap": 0
                },
                "margin": {
                  "t": 60
                },
                "template": {
                  "data": {
                    "bar": [
                      {
                        "error_x": {
                          "color": "#2a3f5f"
                        },
                        "error_y": {
                          "color": "#2a3f5f"
                        },
                        "marker": {
                          "line": {
                            "color": "#E5ECF6",
                            "width": 0.5
                          },
                          "pattern": {
                            "fillmode": "overlay",
                            "size": 10,
                            "solidity": 0.2
                          }
                        },
                        "type": "bar"
                      }
                    ],
                    "barpolar": [
                      {
                        "marker": {
                          "line": {
                            "color": "#E5ECF6",
                            "width": 0.5
                          },
                          "pattern": {
                            "fillmode": "overlay",
                            "size": 10,
                            "solidity": 0.2
                          }
                        },
                        "type": "barpolar"
                      }
                    ],
                    "carpet": [
                      {
                        "aaxis": {
                          "endlinecolor": "#2a3f5f",
                          "gridcolor": "white",
                          "linecolor": "white",
                          "minorgridcolor": "white",
                          "startlinecolor": "#2a3f5f"
                        },
                        "baxis": {
                          "endlinecolor": "#2a3f5f",
                          "gridcolor": "white",
                          "linecolor": "white",
                          "minorgridcolor": "white",
                          "startlinecolor": "#2a3f5f"
                        },
                        "type": "carpet"
                      }
                    ],
                    "choropleth": [
                      {
                        "colorbar": {
                          "outlinewidth": 0,
                          "ticks": ""
                        },
                        "type": "choropleth"
                      }
                    ],
                    "contour": [
                      {
                        "colorbar": {
                          "outlinewidth": 0,
                          "ticks": ""
                        },
                        "colorscale": [
                          [
                            0,
                            "#0d0887"
                          ],
                          [
                            0.1111111111111111,
                            "#46039f"
                          ],
                          [
                            0.2222222222222222,
                            "#7201a8"
                          ],
                          [
                            0.3333333333333333,
                            "#9c179e"
                          ],
                          [
                            0.4444444444444444,
                            "#bd3786"
                          ],
                          [
                            0.5555555555555556,
                            "#d8576b"
                          ],
                          [
                            0.6666666666666666,
                            "#ed7953"
                          ],
                          [
                            0.7777777777777778,
                            "#fb9f3a"
                          ],
                          [
                            0.8888888888888888,
                            "#fdca26"
                          ],
                          [
                            1,
                            "#f0f921"
                          ]
                        ],
                        "type": "contour"
                      }
                    ],
                    "contourcarpet": [
                      {
                        "colorbar": {
                          "outlinewidth": 0,
                          "ticks": ""
                        },
                        "type": "contourcarpet"
                      }
                    ],
                    "heatmap": [
                      {
                        "colorbar": {
                          "outlinewidth": 0,
                          "ticks": ""
                        },
                        "colorscale": [
                          [
                            0,
                            "#0d0887"
                          ],
                          [
                            0.1111111111111111,
                            "#46039f"
                          ],
                          [
                            0.2222222222222222,
                            "#7201a8"
                          ],
                          [
                            0.3333333333333333,
                            "#9c179e"
                          ],
                          [
                            0.4444444444444444,
                            "#bd3786"
                          ],
                          [
                            0.5555555555555556,
                            "#d8576b"
                          ],
                          [
                            0.6666666666666666,
                            "#ed7953"
                          ],
                          [
                            0.7777777777777778,
                            "#fb9f3a"
                          ],
                          [
                            0.8888888888888888,
                            "#fdca26"
                          ],
                          [
                            1,
                            "#f0f921"
                          ]
                        ],
                        "type": "heatmap"
                      }
                    ],
                    "heatmapgl": [
                      {
                        "colorbar": {
                          "outlinewidth": 0,
                          "ticks": ""
                        },
                        "colorscale": [
                          [
                            0,
                            "#0d0887"
                          ],
                          [
                            0.1111111111111111,
                            "#46039f"
                          ],
                          [
                            0.2222222222222222,
                            "#7201a8"
                          ],
                          [
                            0.3333333333333333,
                            "#9c179e"
                          ],
                          [
                            0.4444444444444444,
                            "#bd3786"
                          ],
                          [
                            0.5555555555555556,
                            "#d8576b"
                          ],
                          [
                            0.6666666666666666,
                            "#ed7953"
                          ],
                          [
                            0.7777777777777778,
                            "#fb9f3a"
                          ],
                          [
                            0.8888888888888888,
                            "#fdca26"
                          ],
                          [
                            1,
                            "#f0f921"
                          ]
                        ],
                        "type": "heatmapgl"
                      }
                    ],
                    "histogram": [
                      {
                        "marker": {
                          "pattern": {
                            "fillmode": "overlay",
                            "size": 10,
                            "solidity": 0.2
                          }
                        },
                        "type": "histogram"
                      }
                    ],
                    "histogram2d": [
                      {
                        "colorbar": {
                          "outlinewidth": 0,
                          "ticks": ""
                        },
                        "colorscale": [
                          [
                            0,
                            "#0d0887"
                          ],
                          [
                            0.1111111111111111,
                            "#46039f"
                          ],
                          [
                            0.2222222222222222,
                            "#7201a8"
                          ],
                          [
                            0.3333333333333333,
                            "#9c179e"
                          ],
                          [
                            0.4444444444444444,
                            "#bd3786"
                          ],
                          [
                            0.5555555555555556,
                            "#d8576b"
                          ],
                          [
                            0.6666666666666666,
                            "#ed7953"
                          ],
                          [
                            0.7777777777777778,
                            "#fb9f3a"
                          ],
                          [
                            0.8888888888888888,
                            "#fdca26"
                          ],
                          [
                            1,
                            "#f0f921"
                          ]
                        ],
                        "type": "histogram2d"
                      }
                    ],
                    "histogram2dcontour": [
                      {
                        "colorbar": {
                          "outlinewidth": 0,
                          "ticks": ""
                        },
                        "colorscale": [
                          [
                            0,
                            "#0d0887"
                          ],
                          [
                            0.1111111111111111,
                            "#46039f"
                          ],
                          [
                            0.2222222222222222,
                            "#7201a8"
                          ],
                          [
                            0.3333333333333333,
                            "#9c179e"
                          ],
                          [
                            0.4444444444444444,
                            "#bd3786"
                          ],
                          [
                            0.5555555555555556,
                            "#d8576b"
                          ],
                          [
                            0.6666666666666666,
                            "#ed7953"
                          ],
                          [
                            0.7777777777777778,
                            "#fb9f3a"
                          ],
                          [
                            0.8888888888888888,
                            "#fdca26"
                          ],
                          [
                            1,
                            "#f0f921"
                          ]
                        ],
                        "type": "histogram2dcontour"
                      }
                    ],
                    "mesh3d": [
                      {
                        "colorbar": {
                          "outlinewidth": 0,
                          "ticks": ""
                        },
                        "type": "mesh3d"
                      }
                    ],
                    "parcoords": [
                      {
                        "line": {
                          "colorbar": {
                            "outlinewidth": 0,
                            "ticks": ""
                          }
                        },
                        "type": "parcoords"
                      }
                    ],
                    "pie": [
                      {
                        "automargin": true,
                        "type": "pie"
                      }
                    ],
                    "scatter": [
                      {
                        "marker": {
                          "colorbar": {
                            "outlinewidth": 0,
                            "ticks": ""
                          }
                        },
                        "type": "scatter"
                      }
                    ],
                    "scatter3d": [
                      {
                        "line": {
                          "colorbar": {
                            "outlinewidth": 0,
                            "ticks": ""
                          }
                        },
                        "marker": {
                          "colorbar": {
                            "outlinewidth": 0,
                            "ticks": ""
                          }
                        },
                        "type": "scatter3d"
                      }
                    ],
                    "scattercarpet": [
                      {
                        "marker": {
                          "colorbar": {
                            "outlinewidth": 0,
                            "ticks": ""
                          }
                        },
                        "type": "scattercarpet"
                      }
                    ],
                    "scattergeo": [
                      {
                        "marker": {
                          "colorbar": {
                            "outlinewidth": 0,
                            "ticks": ""
                          }
                        },
                        "type": "scattergeo"
                      }
                    ],
                    "scattergl": [
                      {
                        "marker": {
                          "colorbar": {
                            "outlinewidth": 0,
                            "ticks": ""
                          }
                        },
                        "type": "scattergl"
                      }
                    ],
                    "scattermapbox": [
                      {
                        "marker": {
                          "colorbar": {
                            "outlinewidth": 0,
                            "ticks": ""
                          }
                        },
                        "type": "scattermapbox"
                      }
                    ],
                    "scatterpolar": [
                      {
                        "marker": {
                          "colorbar": {
                            "outlinewidth": 0,
                            "ticks": ""
                          }
                        },
                        "type": "scatterpolar"
                      }
                    ],
                    "scatterpolargl": [
                      {
                        "marker": {
                          "colorbar": {
                            "outlinewidth": 0,
                            "ticks": ""
                          }
                        },
                        "type": "scatterpolargl"
                      }
                    ],
                    "scatterternary": [
                      {
                        "marker": {
                          "colorbar": {
                            "outlinewidth": 0,
                            "ticks": ""
                          }
                        },
                        "type": "scatterternary"
                      }
                    ],
                    "surface": [
                      {
                        "colorbar": {
                          "outlinewidth": 0,
                          "ticks": ""
                        },
                        "colorscale": [
                          [
                            0,
                            "#0d0887"
                          ],
                          [
                            0.1111111111111111,
                            "#46039f"
                          ],
                          [
                            0.2222222222222222,
                            "#7201a8"
                          ],
                          [
                            0.3333333333333333,
                            "#9c179e"
                          ],
                          [
                            0.4444444444444444,
                            "#bd3786"
                          ],
                          [
                            0.5555555555555556,
                            "#d8576b"
                          ],
                          [
                            0.6666666666666666,
                            "#ed7953"
                          ],
                          [
                            0.7777777777777778,
                            "#fb9f3a"
                          ],
                          [
                            0.8888888888888888,
                            "#fdca26"
                          ],
                          [
                            1,
                            "#f0f921"
                          ]
                        ],
                        "type": "surface"
                      }
                    ],
                    "table": [
                      {
                        "cells": {
                          "fill": {
                            "color": "#EBF0F8"
                          },
                          "line": {
                            "color": "white"
                          }
                        },
                        "header": {
                          "fill": {
                            "color": "#C8D4E3"
                          },
                          "line": {
                            "color": "white"
                          }
                        },
                        "type": "table"
                      }
                    ]
                  },
                  "layout": {
                    "annotationdefaults": {
                      "arrowcolor": "#2a3f5f",
                      "arrowhead": 0,
                      "arrowwidth": 1
                    },
                    "autotypenumbers": "strict",
                    "coloraxis": {
                      "colorbar": {
                        "outlinewidth": 0,
                        "ticks": ""
                      }
                    },
                    "colorscale": {
                      "diverging": [
                        [
                          0,
                          "#8e0152"
                        ],
                        [
                          0.1,
                          "#c51b7d"
                        ],
                        [
                          0.2,
                          "#de77ae"
                        ],
                        [
                          0.3,
                          "#f1b6da"
                        ],
                        [
                          0.4,
                          "#fde0ef"
                        ],
                        [
                          0.5,
                          "#f7f7f7"
                        ],
                        [
                          0.6,
                          "#e6f5d0"
                        ],
                        [
                          0.7,
                          "#b8e186"
                        ],
                        [
                          0.8,
                          "#7fbc41"
                        ],
                        [
                          0.9,
                          "#4d9221"
                        ],
                        [
                          1,
                          "#276419"
                        ]
                      ],
                      "sequential": [
                        [
                          0,
                          "#0d0887"
                        ],
                        [
                          0.1111111111111111,
                          "#46039f"
                        ],
                        [
                          0.2222222222222222,
                          "#7201a8"
                        ],
                        [
                          0.3333333333333333,
                          "#9c179e"
                        ],
                        [
                          0.4444444444444444,
                          "#bd3786"
                        ],
                        [
                          0.5555555555555556,
                          "#d8576b"
                        ],
                        [
                          0.6666666666666666,
                          "#ed7953"
                        ],
                        [
                          0.7777777777777778,
                          "#fb9f3a"
                        ],
                        [
                          0.8888888888888888,
                          "#fdca26"
                        ],
                        [
                          1,
                          "#f0f921"
                        ]
                      ],
                      "sequentialminus": [
                        [
                          0,
                          "#0d0887"
                        ],
                        [
                          0.1111111111111111,
                          "#46039f"
                        ],
                        [
                          0.2222222222222222,
                          "#7201a8"
                        ],
                        [
                          0.3333333333333333,
                          "#9c179e"
                        ],
                        [
                          0.4444444444444444,
                          "#bd3786"
                        ],
                        [
                          0.5555555555555556,
                          "#d8576b"
                        ],
                        [
                          0.6666666666666666,
                          "#ed7953"
                        ],
                        [
                          0.7777777777777778,
                          "#fb9f3a"
                        ],
                        [
                          0.8888888888888888,
                          "#fdca26"
                        ],
                        [
                          1,
                          "#f0f921"
                        ]
                      ]
                    },
                    "colorway": [
                      "#636efa",
                      "#EF553B",
                      "#00cc96",
                      "#ab63fa",
                      "#FFA15A",
                      "#19d3f3",
                      "#FF6692",
                      "#B6E880",
                      "#FF97FF",
                      "#FECB52"
                    ],
                    "font": {
                      "color": "#2a3f5f"
                    },
                    "geo": {
                      "bgcolor": "white",
                      "lakecolor": "white",
                      "landcolor": "#E5ECF6",
                      "showlakes": true,
                      "showland": true,
                      "subunitcolor": "white"
                    },
                    "hoverlabel": {
                      "align": "left"
                    },
                    "hovermode": "closest",
                    "mapbox": {
                      "style": "light"
                    },
                    "paper_bgcolor": "white",
                    "plot_bgcolor": "#E5ECF6",
                    "polar": {
                      "angularaxis": {
                        "gridcolor": "white",
                        "linecolor": "white",
                        "ticks": ""
                      },
                      "bgcolor": "#E5ECF6",
                      "radialaxis": {
                        "gridcolor": "white",
                        "linecolor": "white",
                        "ticks": ""
                      }
                    },
                    "scene": {
                      "xaxis": {
                        "backgroundcolor": "#E5ECF6",
                        "gridcolor": "white",
                        "gridwidth": 2,
                        "linecolor": "white",
                        "showbackground": true,
                        "ticks": "",
                        "zerolinecolor": "white"
                      },
                      "yaxis": {
                        "backgroundcolor": "#E5ECF6",
                        "gridcolor": "white",
                        "gridwidth": 2,
                        "linecolor": "white",
                        "showbackground": true,
                        "ticks": "",
                        "zerolinecolor": "white"
                      },
                      "zaxis": {
                        "backgroundcolor": "#E5ECF6",
                        "gridcolor": "white",
                        "gridwidth": 2,
                        "linecolor": "white",
                        "showbackground": true,
                        "ticks": "",
                        "zerolinecolor": "white"
                      }
                    },
                    "shapedefaults": {
                      "line": {
                        "color": "#2a3f5f"
                      }
                    },
                    "ternary": {
                      "aaxis": {
                        "gridcolor": "white",
                        "linecolor": "white",
                        "ticks": ""
                      },
                      "baxis": {
                        "gridcolor": "white",
                        "linecolor": "white",
                        "ticks": ""
                      },
                      "bgcolor": "#E5ECF6",
                      "caxis": {
                        "gridcolor": "white",
                        "linecolor": "white",
                        "ticks": ""
                      }
                    },
                    "title": {
                      "x": 0.05
                    },
                    "xaxis": {
                      "automargin": true,
                      "gridcolor": "white",
                      "linecolor": "white",
                      "ticks": "",
                      "title": {
                        "standoff": 15
                      },
                      "zerolinecolor": "white",
                      "zerolinewidth": 2
                    },
                    "yaxis": {
                      "automargin": true,
                      "gridcolor": "white",
                      "linecolor": "white",
                      "ticks": "",
                      "title": {
                        "standoff": 15
                      },
                      "zerolinecolor": "white",
                      "zerolinewidth": 2
                    }
                  }
                },
                "xaxis": {
                  "anchor": "y",
                  "domain": [
                    0,
                    1
                  ],
                  "title": {
                    "text": "HORA_ACCIDENTE"
                  }
                },
                "yaxis": {
                  "anchor": "x",
                  "domain": [
                    0,
                    1
                  ],
                  "title": {
                    "text": "CANTIDAD_ACCIDENTES"
                  }
                }
              }
            }
          },
          "metadata": {},
          "output_type": "display_data"
        }
      ],
      "source": [
        "fig = px.bar(df5,x=\"HORA_ACCIDENTE\",y=\"CANTIDAD_ACCIDENTES\")\n",
        "fig.show()"
      ]
    },
    {
      "cell_type": "code",
      "execution_count": 15,
      "id": "1c12fdbb",
      "metadata": {},
      "outputs": [
        {
          "data": {
            "image/png": "[encoded data removed]",
            "text/plain": [
              "<Figure size 432x288 with 25 Axes>"
            ]
          },
          "metadata": {
            "needs_background": "light"
          },
          "output_type": "display_data"
        }
      ],
      "source": [
        "from matplotlib import pyplot\n",
        "df.plot(kind='box', subplots=True, layout=(5,5), sharex=False, sharey=False)\n",
        "pyplot.show()"
      ]
    },
    {
      "cell_type": "code",
      "execution_count": 25,
      "id": "72547041",
      "metadata": {},
      "outputs": [
        {
          "data": {
            "image/png": "[encoded data removed]",
            "text/plain": [
              "<Figure size 432x288 with 6 Axes>"
            ]
          },
          "metadata": {
            "needs_background": "light"
          },
          "output_type": "display_data"
        }
      ],
      "source": [
        "df.hist()\n",
        "pyplot.show()"
      ]
    }
  ],
  "metadata": {
    "colab": {
      "collapsed_sections": [
        "37b81e53",
        "be678430"
      ],
      "name": "Trabajo.ipynb",
      "provenance": []
    },
    "kernelspec": {
      "display_name": "Python 3 (ipykernel)",
      "language": "python",
      "name": "python3"
    },
    "language_info": {
      "codemirror_mode": {
        "name": "ipython",
        "version": 3
      },
      "file_extension": ".py",
      "mimetype": "text/x-python",
      "name": "python",
      "nbconvert_exporter": "python",
      "pygments_lexer": "ipython3",
      "version": "3.9.7"
    }
  },
  "nbformat": 4,
  "nbformat_minor": 5
}
